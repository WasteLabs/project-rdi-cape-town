{
 "cells": [
  {
   "attachments": {},
   "cell_type": "markdown",
   "metadata": {},
   "source": [
    "This notebook can be rerun as often as needed"
   ]
  },
  {
   "cell_type": "code",
   "execution_count": 52,
   "metadata": {},
   "outputs": [
    {
     "name": "stdout",
     "output_type": "stream",
     "text": [
      "The kedro.ipython extension is already loaded. To reload it, use:\n",
      "  %reload_ext kedro.ipython\n"
     ]
    },
    {
     "data": {
      "text/html": [
       "<pre style=\"white-space:pre;overflow-x:auto;line-height:normal;font-family:Menlo,'DejaVu Sans Mono',consolas,'Courier New',monospace\"><span style=\"color: #7fbfbf; text-decoration-color: #7fbfbf\">[06/26/23 20:32:00] </span><span style=\"color: #000080; text-decoration-color: #000080\">INFO    </span> Resolved project path as:                                              <a href=\"file:///Users/ejwillemse/dev/projects/project-rdi-cape-town/.venv/lib/python3.10/site-packages/kedro/ipython/__init__.py\" target=\"_blank\"><span style=\"color: #7f7f7f; text-decoration-color: #7f7f7f\">__init__.py</span></a><span style=\"color: #7f7f7f; text-decoration-color: #7f7f7f\">:</span><a href=\"file:///Users/ejwillemse/dev/projects/project-rdi-cape-town/.venv/lib/python3.10/site-packages/kedro/ipython/__init__.py#136\" target=\"_blank\"><span style=\"color: #7f7f7f; text-decoration-color: #7f7f7f\">136</span></a>\n",
       "<span style=\"color: #7fbfbf; text-decoration-color: #7fbfbf\">                    </span>         <span style=\"color: #800080; text-decoration-color: #800080\">/Users/ejwillemse/dev/projects/</span><span style=\"color: #ff00ff; text-decoration-color: #ff00ff\">project-rdi-cape-town.</span>                  <span style=\"color: #7f7f7f; text-decoration-color: #7f7f7f\">               </span>\n",
       "<span style=\"color: #7fbfbf; text-decoration-color: #7fbfbf\">                    </span>         To set a different path, run <span style=\"color: #008000; text-decoration-color: #008000\">'%reload_kedro &lt;project_root&gt;'</span>            <span style=\"color: #7f7f7f; text-decoration-color: #7f7f7f\">               </span>\n",
       "</pre>\n"
      ],
      "text/plain": [
       "\u001b[2;36m[06/26/23 20:32:00]\u001b[0m\u001b[2;36m \u001b[0m\u001b[34mINFO    \u001b[0m Resolved project path as:                                              \u001b]8;id=861137;file:///Users/ejwillemse/dev/projects/project-rdi-cape-town/.venv/lib/python3.10/site-packages/kedro/ipython/__init__.py\u001b\\\u001b[2m__init__.py\u001b[0m\u001b]8;;\u001b\\\u001b[2m:\u001b[0m\u001b]8;id=385590;file:///Users/ejwillemse/dev/projects/project-rdi-cape-town/.venv/lib/python3.10/site-packages/kedro/ipython/__init__.py#136\u001b\\\u001b[2m136\u001b[0m\u001b]8;;\u001b\\\n",
       "\u001b[2;36m                    \u001b[0m         \u001b[35m/Users/ejwillemse/dev/projects/\u001b[0m\u001b[95mproject-rdi-cape-town.\u001b[0m                  \u001b[2m               \u001b[0m\n",
       "\u001b[2;36m                    \u001b[0m         To set a different path, run \u001b[32m'%reload_kedro \u001b[0m\u001b[32m<\u001b[0m\u001b[32mproject_root\u001b[0m\u001b[32m>\u001b[0m\u001b[32m'\u001b[0m            \u001b[2m               \u001b[0m\n"
      ]
     },
     "metadata": {},
     "output_type": "display_data"
    },
    {
     "data": {
      "text/html": [
       "<pre style=\"white-space:pre;overflow-x:auto;line-height:normal;font-family:Menlo,'DejaVu Sans Mono',consolas,'Courier New',monospace\"><span style=\"color: #7fbfbf; text-decoration-color: #7fbfbf\">[06/26/23 20:32:01] </span><span style=\"color: #000080; text-decoration-color: #000080\">INFO    </span> Kedro project Project RDI Cape Town                                    <a href=\"file:///Users/ejwillemse/dev/projects/project-rdi-cape-town/.venv/lib/python3.10/site-packages/kedro/ipython/__init__.py\" target=\"_blank\"><span style=\"color: #7f7f7f; text-decoration-color: #7f7f7f\">__init__.py</span></a><span style=\"color: #7f7f7f; text-decoration-color: #7f7f7f\">:</span><a href=\"file:///Users/ejwillemse/dev/projects/project-rdi-cape-town/.venv/lib/python3.10/site-packages/kedro/ipython/__init__.py#105\" target=\"_blank\"><span style=\"color: #7f7f7f; text-decoration-color: #7f7f7f\">105</span></a>\n",
       "</pre>\n"
      ],
      "text/plain": [
       "\u001b[2;36m[06/26/23 20:32:01]\u001b[0m\u001b[2;36m \u001b[0m\u001b[34mINFO    \u001b[0m Kedro project Project RDI Cape Town                                    \u001b]8;id=448043;file:///Users/ejwillemse/dev/projects/project-rdi-cape-town/.venv/lib/python3.10/site-packages/kedro/ipython/__init__.py\u001b\\\u001b[2m__init__.py\u001b[0m\u001b]8;;\u001b\\\u001b[2m:\u001b[0m\u001b]8;id=172968;file:///Users/ejwillemse/dev/projects/project-rdi-cape-town/.venv/lib/python3.10/site-packages/kedro/ipython/__init__.py#105\u001b\\\u001b[2m105\u001b[0m\u001b]8;;\u001b\\\n"
      ]
     },
     "metadata": {},
     "output_type": "display_data"
    },
    {
     "data": {
      "text/html": [
       "<pre style=\"white-space:pre;overflow-x:auto;line-height:normal;font-family:Menlo,'DejaVu Sans Mono',consolas,'Courier New',monospace\"><span style=\"color: #7fbfbf; text-decoration-color: #7fbfbf\">                    </span><span style=\"color: #000080; text-decoration-color: #000080\">INFO    </span> Defined global variable <span style=\"color: #008000; text-decoration-color: #008000\">'context'</span>, <span style=\"color: #008000; text-decoration-color: #008000\">'session'</span>, <span style=\"color: #008000; text-decoration-color: #008000\">'catalog'</span> and            <a href=\"file:///Users/ejwillemse/dev/projects/project-rdi-cape-town/.venv/lib/python3.10/site-packages/kedro/ipython/__init__.py\" target=\"_blank\"><span style=\"color: #7f7f7f; text-decoration-color: #7f7f7f\">__init__.py</span></a><span style=\"color: #7f7f7f; text-decoration-color: #7f7f7f\">:</span><a href=\"file:///Users/ejwillemse/dev/projects/project-rdi-cape-town/.venv/lib/python3.10/site-packages/kedro/ipython/__init__.py#106\" target=\"_blank\"><span style=\"color: #7f7f7f; text-decoration-color: #7f7f7f\">106</span></a>\n",
       "<span style=\"color: #7fbfbf; text-decoration-color: #7fbfbf\">                    </span>         <span style=\"color: #008000; text-decoration-color: #008000\">'pipelines'</span>                                                            <span style=\"color: #7f7f7f; text-decoration-color: #7f7f7f\">               </span>\n",
       "</pre>\n"
      ],
      "text/plain": [
       "\u001b[2;36m                   \u001b[0m\u001b[2;36m \u001b[0m\u001b[34mINFO    \u001b[0m Defined global variable \u001b[32m'context'\u001b[0m, \u001b[32m'session'\u001b[0m, \u001b[32m'catalog'\u001b[0m and            \u001b]8;id=820648;file:///Users/ejwillemse/dev/projects/project-rdi-cape-town/.venv/lib/python3.10/site-packages/kedro/ipython/__init__.py\u001b\\\u001b[2m__init__.py\u001b[0m\u001b]8;;\u001b\\\u001b[2m:\u001b[0m\u001b]8;id=94889;file:///Users/ejwillemse/dev/projects/project-rdi-cape-town/.venv/lib/python3.10/site-packages/kedro/ipython/__init__.py#106\u001b\\\u001b[2m106\u001b[0m\u001b]8;;\u001b\\\n",
       "\u001b[2;36m                    \u001b[0m         \u001b[32m'pipelines'\u001b[0m                                                            \u001b[2m               \u001b[0m\n"
      ]
     },
     "metadata": {},
     "output_type": "display_data"
    },
    {
     "name": "stdout",
     "output_type": "stream",
     "text": [
      "The autoreload extension is already loaded. To reload it, use:\n",
      "  %reload_ext autoreload\n"
     ]
    }
   ],
   "source": [
    "%load_ext kedro.ipython\n",
    "%reload_kedro\n",
    "%load_ext autoreload\n",
    "%autoreload 2\n",
    "%config IPCompleter.use_jedi=False\n",
    "\n",
    "import os\n",
    "catalog = context.catalog\n",
    "params = context.params\n",
    "credentials = context._get_config_credentials()\n",
    "os.chdir(str(context.project_path))"
   ]
  },
  {
   "cell_type": "code",
   "execution_count": 53,
   "metadata": {},
   "outputs": [],
   "source": [
    "from keplergl import KeplerGl"
   ]
  },
  {
   "cell_type": "code",
   "execution_count": 137,
   "metadata": {},
   "outputs": [],
   "source": [
    "import logging\n",
    "from typing import Tuple\n",
    "import pandas as pd\n",
    "from datetime import datetime\n",
    "import geopandas as gpd\n",
    "import osmnx as ox\n",
    "\n",
    "import logging\n",
    "\n",
    "logger = logging.getLogger(__name__)\n",
    "\n",
    "\n",
    "import pandas as pd\n",
    "import geopandas as gpd\n",
    "\n",
    "\n",
    "def convert_to_geopandas(\n",
    "    df: pd.DataFrame, lat_col: str = \"lat\", lon_col: str = \"lon\"\n",
    ") -> gpd.GeoDataFrame:\n",
    "    \"\"\"\n",
    "    Converts a pandas DataFrame with latitude and longitude columns into a GeoDataFrame.\n",
    "\n",
    "    Parameters:\n",
    "    df (pandas.DataFrame): The input DataFrame containing the latitude and longitude data.\n",
    "    lat_col (str): The name of the column containing the latitude values. Default is \"lat\".\n",
    "    lon_col (str): The name of the column containing the longitude values. Default is \"lon\".\n",
    "\n",
    "    Returns:\n",
    "    gpd.GeoDataFrame: A GeoDataFrame containing the input data with a \"geometry\" column of Point objects.\n",
    "    \"\"\"\n",
    "    # Create a GeoDataFrame from the input DataFrame and the latitude and longitude columns\n",
    "    gdf = gpd.GeoDataFrame(\n",
    "        df, geometry=gpd.points_from_xy(df[lon_col], df[lat_col]), crs=\"EPSG:4326\"\n",
    "    )\n",
    "\n",
    "    return gdf\n",
    "\n",
    "\n",
    "def get_convex_hull(gdf: gpd.clip, buffer_size=50) -> gpd.GeoDataFrame:\n",
    "    \"\"\"\n",
    "    Calculates the convex hull of a set of points and adds a buffer around it.\n",
    "\n",
    "    Parameters:\n",
    "    gpd (gpd.GeoDataFrame): The input DataFrame containing the point data.\n",
    "    buffer_size (float): The size of the buffer to add around the convex hull, in meters. Default is 50.\n",
    "\n",
    "    Returns:\n",
    "    gpd.GeoDataFrame: A GeoDataFrame containing the convex hull of the points with a buffer around it.\n",
    "    \"\"\"\n",
    "\n",
    "    # Log the size of the input data frame\n",
    "    num_points = len(gdf)\n",
    "    logger.info(f\"Input data frame contains {num_points} points.\")\n",
    "\n",
    "    logger.info(\"Calculating the convex hull of the points...\")\n",
    "    # Calculate the convex hull of the points\n",
    "    convex_hull = gdf.geometry.unary_union.convex_hull\n",
    "\n",
    "    logger.info(\"Converting the buffer to a GeoSeries...\")\n",
    "    # Convert the buffer to a GeoSeries\n",
    "    convex_hull_series = gpd.GeoSeries(convex_hull, crs=gdf.crs)\n",
    "\n",
    "    logger.info(\"Converting the buffer to the target projection...\")\n",
    "    # Convert the buffer to the target projection\n",
    "    target_proj = \"epsg:3857\"\n",
    "    convex_hull_target = convex_hull_series.to_crs(target_proj)\n",
    "\n",
    "    # Log the area of the convex hull\n",
    "    area = convex_hull_target.area.values[0] / (1000 * 1000)\n",
    "    logger.info(f\"Convex hull area is {area:.2f} square km.\")\n",
    "\n",
    "    logger.info(f\"Adding a {buffer_size}m buffer around the convex hull...\")\n",
    "    # Add a buffer around the convex hull\n",
    "    convex_hull_buffer = convex_hull_target.buffer(buffer_size)\n",
    "    area = convex_hull_buffer.area.values[0] / (1000 * 1000)\n",
    "    logger.info(f\"Convex hull area is now {area:.2f} square km.\")\n",
    "\n",
    "    logger.info(\"Converting the buffer back to the original projection...\")\n",
    "    # Convert the buffer back to the original projection\n",
    "    convex_hull_buffer_4326 = convex_hull_buffer.to_crs(gdf.crs)\n",
    "\n",
    "    return convex_hull_buffer_4326\n",
    "\n",
    "\n",
    "def get_network(\n",
    "    gdf: gpd.GeoDataFrame, lat_col: str = \"lat\", lon_col: str = \"lon\"\n",
    ") -> Tuple[gpd.GeoDataFrame, gpd.GeoDataFrame, gpd.GeoDataFrame]:\n",
    "    \"\"\"\n",
    "    Gets the street network graph and nodes and edges GeoDataFrames for a given set of points.\n",
    "\n",
    "    Parameters:\n",
    "    gpd (gpd.GeoDataFrame): The input DataFrame containing the point data.\n",
    "\n",
    "    Returns:\n",
    "    Tuple[pd.DataFrame, gpd.GeoDataFrame, gpd.GeoDataFrame]: A tuple containing the nodes DataFrame, arcs GeoDataFrame, and convex hull buffer GeoDataFrame.\n",
    "    \"\"\"\n",
    "    start_time = datetime.now()\n",
    "\n",
    "    logger.info(\"Getting the bounding box from the DataFrame...\")\n",
    "    # Get the bounding box from the DataFrame\n",
    "    convex_buffer = get_convex_hull(gdf)\n",
    "\n",
    "    logger.info(\"Getting the street network graph from OSM...\")\n",
    "    # Get the street network graph from OSM\n",
    "    osm_start_time = datetime.now()\n",
    "    G = ox.graph_from_polygon(\n",
    "        convex_buffer.geometry.values[0], network_type=\"drive\", simplify=True\n",
    "    )\n",
    "    osm_elapsed_time = (datetime.now() - osm_start_time).total_seconds()\n",
    "    logger.info(f\"graph_from_polygon took {osm_elapsed_time:.2f}s to complete.\")\n",
    "\n",
    "    logger.info(\"Converting the graph to GeoDataFrames...\")\n",
    "    # Convert the graph to GeoDataFrames\n",
    "    gdf_start_time = datetime.now()\n",
    "    nodes, arcs = ox.graph_to_gdfs(G, nodes=True, edges=True)\n",
    "    nodes = nodes.reset_index()\n",
    "    arcs = arcs.reset_index()\n",
    "    gdf_elapsed_time = (datetime.now() - gdf_start_time).total_seconds()\n",
    "    logger.info(f\"graph_to_gdfs took {gdf_elapsed_time:.2f}s to complete.\")\n",
    "\n",
    "    # Log the size of the resulting nodes and edges data frames\n",
    "    num_nodes = len(nodes)\n",
    "    num_arcs = len(arcs)\n",
    "    logger.info(f\"Nodes GeoDataFrame contains {num_nodes} nodes.\")\n",
    "    logger.info(f\"Edges GeoDataFrame contains {num_arcs} edges.\")\n",
    "\n",
    "    end_time = datetime.now()\n",
    "    logger.info(\n",
    "        f\"get_network function took {(end_time - start_time).total_seconds()} seconds to complete.\"\n",
    "    )\n",
    "\n",
    "    convex_buffer = gpd.GeoDataFrame(\n",
    "        pd.DataFrame({\"__temp\": [0]}), geometry=convex_buffer, crs=\"epsg:4326\"\n",
    "    ).drop(columns=[\"__temp\"])\n",
    "\n",
    "    return nodes, arcs, convex_buffer"
   ]
  },
  {
   "cell_type": "code",
   "execution_count": 138,
   "metadata": {},
   "outputs": [
    {
     "data": {
      "text/html": [
       "<pre style=\"white-space:pre;overflow-x:auto;line-height:normal;font-family:Menlo,'DejaVu Sans Mono',consolas,'Courier New',monospace\"><span style=\"color: #7fbfbf; text-decoration-color: #7fbfbf\">[06/26/23 21:27:31] </span><span style=\"color: #000080; text-decoration-color: #000080\">INFO    </span> Resolved project path as:                                              <a href=\"file:///Users/ejwillemse/dev/projects/project-rdi-cape-town/.venv/lib/python3.10/site-packages/kedro/ipython/__init__.py\" target=\"_blank\"><span style=\"color: #7f7f7f; text-decoration-color: #7f7f7f\">__init__.py</span></a><span style=\"color: #7f7f7f; text-decoration-color: #7f7f7f\">:</span><a href=\"file:///Users/ejwillemse/dev/projects/project-rdi-cape-town/.venv/lib/python3.10/site-packages/kedro/ipython/__init__.py#136\" target=\"_blank\"><span style=\"color: #7f7f7f; text-decoration-color: #7f7f7f\">136</span></a>\n",
       "<span style=\"color: #7fbfbf; text-decoration-color: #7fbfbf\">                    </span>         <span style=\"color: #800080; text-decoration-color: #800080\">/Users/ejwillemse/dev/projects/</span><span style=\"color: #ff00ff; text-decoration-color: #ff00ff\">project-rdi-cape-town.</span>                  <span style=\"color: #7f7f7f; text-decoration-color: #7f7f7f\">               </span>\n",
       "<span style=\"color: #7fbfbf; text-decoration-color: #7fbfbf\">                    </span>         To set a different path, run <span style=\"color: #008000; text-decoration-color: #008000\">'%reload_kedro &lt;project_root&gt;'</span>            <span style=\"color: #7f7f7f; text-decoration-color: #7f7f7f\">               </span>\n",
       "</pre>\n"
      ],
      "text/plain": [
       "\u001b[2;36m[06/26/23 21:27:31]\u001b[0m\u001b[2;36m \u001b[0m\u001b[34mINFO    \u001b[0m Resolved project path as:                                              \u001b]8;id=135799;file:///Users/ejwillemse/dev/projects/project-rdi-cape-town/.venv/lib/python3.10/site-packages/kedro/ipython/__init__.py\u001b\\\u001b[2m__init__.py\u001b[0m\u001b]8;;\u001b\\\u001b[2m:\u001b[0m\u001b]8;id=504587;file:///Users/ejwillemse/dev/projects/project-rdi-cape-town/.venv/lib/python3.10/site-packages/kedro/ipython/__init__.py#136\u001b\\\u001b[2m136\u001b[0m\u001b]8;;\u001b\\\n",
       "\u001b[2;36m                    \u001b[0m         \u001b[35m/Users/ejwillemse/dev/projects/\u001b[0m\u001b[95mproject-rdi-cape-town.\u001b[0m                  \u001b[2m               \u001b[0m\n",
       "\u001b[2;36m                    \u001b[0m         To set a different path, run \u001b[32m'%reload_kedro \u001b[0m\u001b[32m<\u001b[0m\u001b[32mproject_root\u001b[0m\u001b[32m>\u001b[0m\u001b[32m'\u001b[0m            \u001b[2m               \u001b[0m\n"
      ]
     },
     "metadata": {},
     "output_type": "display_data"
    },
    {
     "data": {
      "text/html": [
       "<pre style=\"white-space:pre;overflow-x:auto;line-height:normal;font-family:Menlo,'DejaVu Sans Mono',consolas,'Courier New',monospace\"><span style=\"color: #7fbfbf; text-decoration-color: #7fbfbf\">[06/26/23 21:27:32] </span><span style=\"color: #000080; text-decoration-color: #000080\">INFO    </span> Kedro project Project RDI Cape Town                                    <a href=\"file:///Users/ejwillemse/dev/projects/project-rdi-cape-town/.venv/lib/python3.10/site-packages/kedro/ipython/__init__.py\" target=\"_blank\"><span style=\"color: #7f7f7f; text-decoration-color: #7f7f7f\">__init__.py</span></a><span style=\"color: #7f7f7f; text-decoration-color: #7f7f7f\">:</span><a href=\"file:///Users/ejwillemse/dev/projects/project-rdi-cape-town/.venv/lib/python3.10/site-packages/kedro/ipython/__init__.py#105\" target=\"_blank\"><span style=\"color: #7f7f7f; text-decoration-color: #7f7f7f\">105</span></a>\n",
       "</pre>\n"
      ],
      "text/plain": [
       "\u001b[2;36m[06/26/23 21:27:32]\u001b[0m\u001b[2;36m \u001b[0m\u001b[34mINFO    \u001b[0m Kedro project Project RDI Cape Town                                    \u001b]8;id=788946;file:///Users/ejwillemse/dev/projects/project-rdi-cape-town/.venv/lib/python3.10/site-packages/kedro/ipython/__init__.py\u001b\\\u001b[2m__init__.py\u001b[0m\u001b]8;;\u001b\\\u001b[2m:\u001b[0m\u001b]8;id=95748;file:///Users/ejwillemse/dev/projects/project-rdi-cape-town/.venv/lib/python3.10/site-packages/kedro/ipython/__init__.py#105\u001b\\\u001b[2m105\u001b[0m\u001b]8;;\u001b\\\n"
      ]
     },
     "metadata": {},
     "output_type": "display_data"
    },
    {
     "data": {
      "text/html": [
       "<pre style=\"white-space:pre;overflow-x:auto;line-height:normal;font-family:Menlo,'DejaVu Sans Mono',consolas,'Courier New',monospace\"><span style=\"color: #7fbfbf; text-decoration-color: #7fbfbf\">                    </span><span style=\"color: #000080; text-decoration-color: #000080\">INFO    </span> Defined global variable <span style=\"color: #008000; text-decoration-color: #008000\">'context'</span>, <span style=\"color: #008000; text-decoration-color: #008000\">'session'</span>, <span style=\"color: #008000; text-decoration-color: #008000\">'catalog'</span> and            <a href=\"file:///Users/ejwillemse/dev/projects/project-rdi-cape-town/.venv/lib/python3.10/site-packages/kedro/ipython/__init__.py\" target=\"_blank\"><span style=\"color: #7f7f7f; text-decoration-color: #7f7f7f\">__init__.py</span></a><span style=\"color: #7f7f7f; text-decoration-color: #7f7f7f\">:</span><a href=\"file:///Users/ejwillemse/dev/projects/project-rdi-cape-town/.venv/lib/python3.10/site-packages/kedro/ipython/__init__.py#106\" target=\"_blank\"><span style=\"color: #7f7f7f; text-decoration-color: #7f7f7f\">106</span></a>\n",
       "<span style=\"color: #7fbfbf; text-decoration-color: #7fbfbf\">                    </span>         <span style=\"color: #008000; text-decoration-color: #008000\">'pipelines'</span>                                                            <span style=\"color: #7f7f7f; text-decoration-color: #7f7f7f\">               </span>\n",
       "</pre>\n"
      ],
      "text/plain": [
       "\u001b[2;36m                   \u001b[0m\u001b[2;36m \u001b[0m\u001b[34mINFO    \u001b[0m Defined global variable \u001b[32m'context'\u001b[0m, \u001b[32m'session'\u001b[0m, \u001b[32m'catalog'\u001b[0m and            \u001b]8;id=280853;file:///Users/ejwillemse/dev/projects/project-rdi-cape-town/.venv/lib/python3.10/site-packages/kedro/ipython/__init__.py\u001b\\\u001b[2m__init__.py\u001b[0m\u001b]8;;\u001b\\\u001b[2m:\u001b[0m\u001b]8;id=306243;file:///Users/ejwillemse/dev/projects/project-rdi-cape-town/.venv/lib/python3.10/site-packages/kedro/ipython/__init__.py#106\u001b\\\u001b[2m106\u001b[0m\u001b]8;;\u001b\\\n",
       "\u001b[2;36m                    \u001b[0m         \u001b[32m'pipelines'\u001b[0m                                                            \u001b[2m               \u001b[0m\n"
      ]
     },
     "metadata": {},
     "output_type": "display_data"
    },
    {
     "data": {
      "text/html": [
       "<pre style=\"white-space:pre;overflow-x:auto;line-height:normal;font-family:Menlo,'DejaVu Sans Mono',consolas,'Courier New',monospace\"><span style=\"color: #7fbfbf; text-decoration-color: #7fbfbf\">                    </span><span style=\"color: #000080; text-decoration-color: #000080\">INFO    </span> Loading data from <span style=\"color: #008000; text-decoration-color: #008000\">'syn_pop_scenarios'</span> <span style=\"font-weight: bold\">(</span>PartitionedDataSet<span style=\"font-weight: bold\">)</span><span style=\"color: #808000; text-decoration-color: #808000\">...</span>      <a href=\"file:///Users/ejwillemse/dev/projects/project-rdi-cape-town/.venv/lib/python3.10/site-packages/kedro/io/data_catalog.py\" target=\"_blank\"><span style=\"color: #7f7f7f; text-decoration-color: #7f7f7f\">data_catalog.py</span></a><span style=\"color: #7f7f7f; text-decoration-color: #7f7f7f\">:</span><a href=\"file:///Users/ejwillemse/dev/projects/project-rdi-cape-town/.venv/lib/python3.10/site-packages/kedro/io/data_catalog.py#345\" target=\"_blank\"><span style=\"color: #7f7f7f; text-decoration-color: #7f7f7f\">345</span></a>\n",
       "</pre>\n"
      ],
      "text/plain": [
       "\u001b[2;36m                   \u001b[0m\u001b[2;36m \u001b[0m\u001b[34mINFO    \u001b[0m Loading data from \u001b[32m'syn_pop_scenarios'\u001b[0m \u001b[1m(\u001b[0mPartitionedDataSet\u001b[1m)\u001b[0m\u001b[33m...\u001b[0m      \u001b]8;id=145954;file:///Users/ejwillemse/dev/projects/project-rdi-cape-town/.venv/lib/python3.10/site-packages/kedro/io/data_catalog.py\u001b\\\u001b[2mdata_catalog.py\u001b[0m\u001b]8;;\u001b\\\u001b[2m:\u001b[0m\u001b]8;id=796243;file:///Users/ejwillemse/dev/projects/project-rdi-cape-town/.venv/lib/python3.10/site-packages/kedro/io/data_catalog.py#345\u001b\\\u001b[2m345\u001b[0m\u001b]8;;\u001b\\\n"
      ]
     },
     "metadata": {},
     "output_type": "display_data"
    },
    {
     "data": {
      "text/html": [
       "<pre style=\"white-space:pre;overflow-x:auto;line-height:normal;font-family:Menlo,'DejaVu Sans Mono',consolas,'Courier New',monospace\"><span style=\"color: #7fbfbf; text-decoration-color: #7fbfbf\">[06/26/23 21:27:34] </span><span style=\"color: #000080; text-decoration-color: #000080\">INFO    </span> Getting the bounding box from the DataFrame<span style=\"color: #808000; text-decoration-color: #808000\">...</span>                        <a href=\"file:///var/folders/dy/_xqj_wpj3jl0lgk31f6ytns00000gp/T/ipykernel_198/4075212042.py\" target=\"_blank\"><span style=\"color: #7f7f7f; text-decoration-color: #7f7f7f\">4075212042.py</span></a><span style=\"color: #7f7f7f; text-decoration-color: #7f7f7f\">:</span><a href=\"file:///var/folders/dy/_xqj_wpj3jl0lgk31f6ytns00000gp/T/ipykernel_198/4075212042.py#99\" target=\"_blank\"><span style=\"color: #7f7f7f; text-decoration-color: #7f7f7f\">99</span></a>\n",
       "</pre>\n"
      ],
      "text/plain": [
       "\u001b[2;36m[06/26/23 21:27:34]\u001b[0m\u001b[2;36m \u001b[0m\u001b[34mINFO    \u001b[0m Getting the bounding box from the DataFrame\u001b[33m...\u001b[0m                        \u001b]8;id=536016;file:///var/folders/dy/_xqj_wpj3jl0lgk31f6ytns00000gp/T/ipykernel_198/4075212042.py\u001b\\\u001b[2m4075212042.py\u001b[0m\u001b]8;;\u001b\\\u001b[2m:\u001b[0m\u001b]8;id=706349;file:///var/folders/dy/_xqj_wpj3jl0lgk31f6ytns00000gp/T/ipykernel_198/4075212042.py#99\u001b\\\u001b[2m99\u001b[0m\u001b]8;;\u001b\\\n"
      ]
     },
     "metadata": {},
     "output_type": "display_data"
    },
    {
     "data": {
      "text/html": [
       "<pre style=\"white-space:pre;overflow-x:auto;line-height:normal;font-family:Menlo,'DejaVu Sans Mono',consolas,'Courier New',monospace\"><span style=\"color: #7fbfbf; text-decoration-color: #7fbfbf\">                    </span><span style=\"color: #000080; text-decoration-color: #000080\">INFO    </span> Input data frame contains <span style=\"color: #008080; text-decoration-color: #008080; font-weight: bold\">38603</span> points.                               <a href=\"file:///var/folders/dy/_xqj_wpj3jl0lgk31f6ytns00000gp/T/ipykernel_198/4075212042.py\" target=\"_blank\"><span style=\"color: #7f7f7f; text-decoration-color: #7f7f7f\">4075212042.py</span></a><span style=\"color: #7f7f7f; text-decoration-color: #7f7f7f\">:</span><a href=\"file:///var/folders/dy/_xqj_wpj3jl0lgk31f6ytns00000gp/T/ipykernel_198/4075212042.py#53\" target=\"_blank\"><span style=\"color: #7f7f7f; text-decoration-color: #7f7f7f\">53</span></a>\n",
       "</pre>\n"
      ],
      "text/plain": [
       "\u001b[2;36m                   \u001b[0m\u001b[2;36m \u001b[0m\u001b[34mINFO    \u001b[0m Input data frame contains \u001b[1;36m38603\u001b[0m points.                               \u001b]8;id=504157;file:///var/folders/dy/_xqj_wpj3jl0lgk31f6ytns00000gp/T/ipykernel_198/4075212042.py\u001b\\\u001b[2m4075212042.py\u001b[0m\u001b]8;;\u001b\\\u001b[2m:\u001b[0m\u001b]8;id=710219;file:///var/folders/dy/_xqj_wpj3jl0lgk31f6ytns00000gp/T/ipykernel_198/4075212042.py#53\u001b\\\u001b[2m53\u001b[0m\u001b]8;;\u001b\\\n"
      ]
     },
     "metadata": {},
     "output_type": "display_data"
    },
    {
     "data": {
      "text/html": [
       "<pre style=\"white-space:pre;overflow-x:auto;line-height:normal;font-family:Menlo,'DejaVu Sans Mono',consolas,'Courier New',monospace\"><span style=\"color: #7fbfbf; text-decoration-color: #7fbfbf\">                    </span><span style=\"color: #000080; text-decoration-color: #000080\">INFO    </span> Calculating the convex hull of the points<span style=\"color: #808000; text-decoration-color: #808000\">...</span>                          <a href=\"file:///var/folders/dy/_xqj_wpj3jl0lgk31f6ytns00000gp/T/ipykernel_198/4075212042.py\" target=\"_blank\"><span style=\"color: #7f7f7f; text-decoration-color: #7f7f7f\">4075212042.py</span></a><span style=\"color: #7f7f7f; text-decoration-color: #7f7f7f\">:</span><a href=\"file:///var/folders/dy/_xqj_wpj3jl0lgk31f6ytns00000gp/T/ipykernel_198/4075212042.py#55\" target=\"_blank\"><span style=\"color: #7f7f7f; text-decoration-color: #7f7f7f\">55</span></a>\n",
       "</pre>\n"
      ],
      "text/plain": [
       "\u001b[2;36m                   \u001b[0m\u001b[2;36m \u001b[0m\u001b[34mINFO    \u001b[0m Calculating the convex hull of the points\u001b[33m...\u001b[0m                          \u001b]8;id=683015;file:///var/folders/dy/_xqj_wpj3jl0lgk31f6ytns00000gp/T/ipykernel_198/4075212042.py\u001b\\\u001b[2m4075212042.py\u001b[0m\u001b]8;;\u001b\\\u001b[2m:\u001b[0m\u001b]8;id=387309;file:///var/folders/dy/_xqj_wpj3jl0lgk31f6ytns00000gp/T/ipykernel_198/4075212042.py#55\u001b\\\u001b[2m55\u001b[0m\u001b]8;;\u001b\\\n"
      ]
     },
     "metadata": {},
     "output_type": "display_data"
    },
    {
     "data": {
      "text/html": [
       "<pre style=\"white-space:pre;overflow-x:auto;line-height:normal;font-family:Menlo,'DejaVu Sans Mono',consolas,'Courier New',monospace\"><span style=\"color: #7fbfbf; text-decoration-color: #7fbfbf\">[06/26/23 21:27:35] </span><span style=\"color: #000080; text-decoration-color: #000080\">INFO    </span> Converting the buffer to a GeoSeries<span style=\"color: #808000; text-decoration-color: #808000\">...</span>                               <a href=\"file:///var/folders/dy/_xqj_wpj3jl0lgk31f6ytns00000gp/T/ipykernel_198/4075212042.py\" target=\"_blank\"><span style=\"color: #7f7f7f; text-decoration-color: #7f7f7f\">4075212042.py</span></a><span style=\"color: #7f7f7f; text-decoration-color: #7f7f7f\">:</span><a href=\"file:///var/folders/dy/_xqj_wpj3jl0lgk31f6ytns00000gp/T/ipykernel_198/4075212042.py#59\" target=\"_blank\"><span style=\"color: #7f7f7f; text-decoration-color: #7f7f7f\">59</span></a>\n",
       "</pre>\n"
      ],
      "text/plain": [
       "\u001b[2;36m[06/26/23 21:27:35]\u001b[0m\u001b[2;36m \u001b[0m\u001b[34mINFO    \u001b[0m Converting the buffer to a GeoSeries\u001b[33m...\u001b[0m                               \u001b]8;id=903108;file:///var/folders/dy/_xqj_wpj3jl0lgk31f6ytns00000gp/T/ipykernel_198/4075212042.py\u001b\\\u001b[2m4075212042.py\u001b[0m\u001b]8;;\u001b\\\u001b[2m:\u001b[0m\u001b]8;id=797693;file:///var/folders/dy/_xqj_wpj3jl0lgk31f6ytns00000gp/T/ipykernel_198/4075212042.py#59\u001b\\\u001b[2m59\u001b[0m\u001b]8;;\u001b\\\n"
      ]
     },
     "metadata": {},
     "output_type": "display_data"
    },
    {
     "data": {
      "text/html": [
       "<pre style=\"white-space:pre;overflow-x:auto;line-height:normal;font-family:Menlo,'DejaVu Sans Mono',consolas,'Courier New',monospace\"><span style=\"color: #7fbfbf; text-decoration-color: #7fbfbf\">                    </span><span style=\"color: #000080; text-decoration-color: #000080\">INFO    </span> Converting the buffer to the target projection<span style=\"color: #808000; text-decoration-color: #808000\">...</span>                     <a href=\"file:///var/folders/dy/_xqj_wpj3jl0lgk31f6ytns00000gp/T/ipykernel_198/4075212042.py\" target=\"_blank\"><span style=\"color: #7f7f7f; text-decoration-color: #7f7f7f\">4075212042.py</span></a><span style=\"color: #7f7f7f; text-decoration-color: #7f7f7f\">:</span><a href=\"file:///var/folders/dy/_xqj_wpj3jl0lgk31f6ytns00000gp/T/ipykernel_198/4075212042.py#63\" target=\"_blank\"><span style=\"color: #7f7f7f; text-decoration-color: #7f7f7f\">63</span></a>\n",
       "</pre>\n"
      ],
      "text/plain": [
       "\u001b[2;36m                   \u001b[0m\u001b[2;36m \u001b[0m\u001b[34mINFO    \u001b[0m Converting the buffer to the target projection\u001b[33m...\u001b[0m                     \u001b]8;id=314554;file:///var/folders/dy/_xqj_wpj3jl0lgk31f6ytns00000gp/T/ipykernel_198/4075212042.py\u001b\\\u001b[2m4075212042.py\u001b[0m\u001b]8;;\u001b\\\u001b[2m:\u001b[0m\u001b]8;id=197117;file:///var/folders/dy/_xqj_wpj3jl0lgk31f6ytns00000gp/T/ipykernel_198/4075212042.py#63\u001b\\\u001b[2m63\u001b[0m\u001b]8;;\u001b\\\n"
      ]
     },
     "metadata": {},
     "output_type": "display_data"
    },
    {
     "data": {
      "text/html": [
       "<pre style=\"white-space:pre;overflow-x:auto;line-height:normal;font-family:Menlo,'DejaVu Sans Mono',consolas,'Courier New',monospace\"><span style=\"color: #7fbfbf; text-decoration-color: #7fbfbf\">                    </span><span style=\"color: #000080; text-decoration-color: #000080\">INFO    </span> Convex hull area is <span style=\"color: #008080; text-decoration-color: #008080; font-weight: bold\">53.91</span> square km.                                  <a href=\"file:///var/folders/dy/_xqj_wpj3jl0lgk31f6ytns00000gp/T/ipykernel_198/4075212042.py\" target=\"_blank\"><span style=\"color: #7f7f7f; text-decoration-color: #7f7f7f\">4075212042.py</span></a><span style=\"color: #7f7f7f; text-decoration-color: #7f7f7f\">:</span><a href=\"file:///var/folders/dy/_xqj_wpj3jl0lgk31f6ytns00000gp/T/ipykernel_198/4075212042.py#70\" target=\"_blank\"><span style=\"color: #7f7f7f; text-decoration-color: #7f7f7f\">70</span></a>\n",
       "</pre>\n"
      ],
      "text/plain": [
       "\u001b[2;36m                   \u001b[0m\u001b[2;36m \u001b[0m\u001b[34mINFO    \u001b[0m Convex hull area is \u001b[1;36m53.91\u001b[0m square km.                                  \u001b]8;id=151500;file:///var/folders/dy/_xqj_wpj3jl0lgk31f6ytns00000gp/T/ipykernel_198/4075212042.py\u001b\\\u001b[2m4075212042.py\u001b[0m\u001b]8;;\u001b\\\u001b[2m:\u001b[0m\u001b]8;id=717716;file:///var/folders/dy/_xqj_wpj3jl0lgk31f6ytns00000gp/T/ipykernel_198/4075212042.py#70\u001b\\\u001b[2m70\u001b[0m\u001b]8;;\u001b\\\n"
      ]
     },
     "metadata": {},
     "output_type": "display_data"
    },
    {
     "data": {
      "text/html": [
       "<pre style=\"white-space:pre;overflow-x:auto;line-height:normal;font-family:Menlo,'DejaVu Sans Mono',consolas,'Courier New',monospace\"><span style=\"color: #7fbfbf; text-decoration-color: #7fbfbf\">                    </span><span style=\"color: #000080; text-decoration-color: #000080\">INFO    </span> Adding a 50m buffer around the convex hull<span style=\"color: #808000; text-decoration-color: #808000\">...</span>                         <a href=\"file:///var/folders/dy/_xqj_wpj3jl0lgk31f6ytns00000gp/T/ipykernel_198/4075212042.py\" target=\"_blank\"><span style=\"color: #7f7f7f; text-decoration-color: #7f7f7f\">4075212042.py</span></a><span style=\"color: #7f7f7f; text-decoration-color: #7f7f7f\">:</span><a href=\"file:///var/folders/dy/_xqj_wpj3jl0lgk31f6ytns00000gp/T/ipykernel_198/4075212042.py#72\" target=\"_blank\"><span style=\"color: #7f7f7f; text-decoration-color: #7f7f7f\">72</span></a>\n",
       "</pre>\n"
      ],
      "text/plain": [
       "\u001b[2;36m                   \u001b[0m\u001b[2;36m \u001b[0m\u001b[34mINFO    \u001b[0m Adding a 50m buffer around the convex hull\u001b[33m...\u001b[0m                         \u001b]8;id=513589;file:///var/folders/dy/_xqj_wpj3jl0lgk31f6ytns00000gp/T/ipykernel_198/4075212042.py\u001b\\\u001b[2m4075212042.py\u001b[0m\u001b]8;;\u001b\\\u001b[2m:\u001b[0m\u001b]8;id=599836;file:///var/folders/dy/_xqj_wpj3jl0lgk31f6ytns00000gp/T/ipykernel_198/4075212042.py#72\u001b\\\u001b[2m72\u001b[0m\u001b]8;;\u001b\\\n"
      ]
     },
     "metadata": {},
     "output_type": "display_data"
    },
    {
     "data": {
      "text/html": [
       "<pre style=\"white-space:pre;overflow-x:auto;line-height:normal;font-family:Menlo,'DejaVu Sans Mono',consolas,'Courier New',monospace\"><span style=\"color: #7fbfbf; text-decoration-color: #7fbfbf\">                    </span><span style=\"color: #000080; text-decoration-color: #000080\">INFO    </span> Convex hull area is now <span style=\"color: #008080; text-decoration-color: #008080; font-weight: bold\">55.35</span> square km.                              <a href=\"file:///var/folders/dy/_xqj_wpj3jl0lgk31f6ytns00000gp/T/ipykernel_198/4075212042.py\" target=\"_blank\"><span style=\"color: #7f7f7f; text-decoration-color: #7f7f7f\">4075212042.py</span></a><span style=\"color: #7f7f7f; text-decoration-color: #7f7f7f\">:</span><a href=\"file:///var/folders/dy/_xqj_wpj3jl0lgk31f6ytns00000gp/T/ipykernel_198/4075212042.py#76\" target=\"_blank\"><span style=\"color: #7f7f7f; text-decoration-color: #7f7f7f\">76</span></a>\n",
       "</pre>\n"
      ],
      "text/plain": [
       "\u001b[2;36m                   \u001b[0m\u001b[2;36m \u001b[0m\u001b[34mINFO    \u001b[0m Convex hull area is now \u001b[1;36m55.35\u001b[0m square km.                              \u001b]8;id=126134;file:///var/folders/dy/_xqj_wpj3jl0lgk31f6ytns00000gp/T/ipykernel_198/4075212042.py\u001b\\\u001b[2m4075212042.py\u001b[0m\u001b]8;;\u001b\\\u001b[2m:\u001b[0m\u001b]8;id=430643;file:///var/folders/dy/_xqj_wpj3jl0lgk31f6ytns00000gp/T/ipykernel_198/4075212042.py#76\u001b\\\u001b[2m76\u001b[0m\u001b]8;;\u001b\\\n"
      ]
     },
     "metadata": {},
     "output_type": "display_data"
    },
    {
     "data": {
      "text/html": [
       "<pre style=\"white-space:pre;overflow-x:auto;line-height:normal;font-family:Menlo,'DejaVu Sans Mono',consolas,'Courier New',monospace\"><span style=\"color: #7fbfbf; text-decoration-color: #7fbfbf\">                    </span><span style=\"color: #000080; text-decoration-color: #000080\">INFO    </span> Converting the buffer back to the original projection<span style=\"color: #808000; text-decoration-color: #808000\">...</span>              <a href=\"file:///var/folders/dy/_xqj_wpj3jl0lgk31f6ytns00000gp/T/ipykernel_198/4075212042.py\" target=\"_blank\"><span style=\"color: #7f7f7f; text-decoration-color: #7f7f7f\">4075212042.py</span></a><span style=\"color: #7f7f7f; text-decoration-color: #7f7f7f\">:</span><a href=\"file:///var/folders/dy/_xqj_wpj3jl0lgk31f6ytns00000gp/T/ipykernel_198/4075212042.py#78\" target=\"_blank\"><span style=\"color: #7f7f7f; text-decoration-color: #7f7f7f\">78</span></a>\n",
       "</pre>\n"
      ],
      "text/plain": [
       "\u001b[2;36m                   \u001b[0m\u001b[2;36m \u001b[0m\u001b[34mINFO    \u001b[0m Converting the buffer back to the original projection\u001b[33m...\u001b[0m              \u001b]8;id=206647;file:///var/folders/dy/_xqj_wpj3jl0lgk31f6ytns00000gp/T/ipykernel_198/4075212042.py\u001b\\\u001b[2m4075212042.py\u001b[0m\u001b]8;;\u001b\\\u001b[2m:\u001b[0m\u001b]8;id=552122;file:///var/folders/dy/_xqj_wpj3jl0lgk31f6ytns00000gp/T/ipykernel_198/4075212042.py#78\u001b\\\u001b[2m78\u001b[0m\u001b]8;;\u001b\\\n"
      ]
     },
     "metadata": {},
     "output_type": "display_data"
    },
    {
     "data": {
      "text/html": [
       "<pre style=\"white-space:pre;overflow-x:auto;line-height:normal;font-family:Menlo,'DejaVu Sans Mono',consolas,'Courier New',monospace\"><span style=\"color: #7fbfbf; text-decoration-color: #7fbfbf\">                    </span><span style=\"color: #000080; text-decoration-color: #000080\">INFO    </span> Getting the street network graph from OSM<span style=\"color: #808000; text-decoration-color: #808000\">...</span>                         <a href=\"file:///var/folders/dy/_xqj_wpj3jl0lgk31f6ytns00000gp/T/ipykernel_198/4075212042.py\" target=\"_blank\"><span style=\"color: #7f7f7f; text-decoration-color: #7f7f7f\">4075212042.py</span></a><span style=\"color: #7f7f7f; text-decoration-color: #7f7f7f\">:</span><a href=\"file:///var/folders/dy/_xqj_wpj3jl0lgk31f6ytns00000gp/T/ipykernel_198/4075212042.py#103\" target=\"_blank\"><span style=\"color: #7f7f7f; text-decoration-color: #7f7f7f\">103</span></a>\n",
       "</pre>\n"
      ],
      "text/plain": [
       "\u001b[2;36m                   \u001b[0m\u001b[2;36m \u001b[0m\u001b[34mINFO    \u001b[0m Getting the street network graph from OSM\u001b[33m...\u001b[0m                         \u001b]8;id=527466;file:///var/folders/dy/_xqj_wpj3jl0lgk31f6ytns00000gp/T/ipykernel_198/4075212042.py\u001b\\\u001b[2m4075212042.py\u001b[0m\u001b]8;;\u001b\\\u001b[2m:\u001b[0m\u001b]8;id=907762;file:///var/folders/dy/_xqj_wpj3jl0lgk31f6ytns00000gp/T/ipykernel_198/4075212042.py#103\u001b\\\u001b[2m103\u001b[0m\u001b]8;;\u001b\\\n"
      ]
     },
     "metadata": {},
     "output_type": "display_data"
    },
    {
     "data": {
      "text/html": [
       "<pre style=\"white-space:pre;overflow-x:auto;line-height:normal;font-family:Menlo,'DejaVu Sans Mono',consolas,'Courier New',monospace\"><span style=\"color: #7fbfbf; text-decoration-color: #7fbfbf\">[06/26/23 21:27:39] </span><span style=\"color: #000080; text-decoration-color: #000080\">INFO    </span> graph_from_polygon took <span style=\"color: #008080; text-decoration-color: #008080; font-weight: bold\">4.</span>51s to complete.                           <a href=\"file:///var/folders/dy/_xqj_wpj3jl0lgk31f6ytns00000gp/T/ipykernel_198/4075212042.py\" target=\"_blank\"><span style=\"color: #7f7f7f; text-decoration-color: #7f7f7f\">4075212042.py</span></a><span style=\"color: #7f7f7f; text-decoration-color: #7f7f7f\">:</span><a href=\"file:///var/folders/dy/_xqj_wpj3jl0lgk31f6ytns00000gp/T/ipykernel_198/4075212042.py#110\" target=\"_blank\"><span style=\"color: #7f7f7f; text-decoration-color: #7f7f7f\">110</span></a>\n",
       "</pre>\n"
      ],
      "text/plain": [
       "\u001b[2;36m[06/26/23 21:27:39]\u001b[0m\u001b[2;36m \u001b[0m\u001b[34mINFO    \u001b[0m graph_from_polygon took \u001b[1;36m4.\u001b[0m51s to complete.                           \u001b]8;id=93069;file:///var/folders/dy/_xqj_wpj3jl0lgk31f6ytns00000gp/T/ipykernel_198/4075212042.py\u001b\\\u001b[2m4075212042.py\u001b[0m\u001b]8;;\u001b\\\u001b[2m:\u001b[0m\u001b]8;id=955484;file:///var/folders/dy/_xqj_wpj3jl0lgk31f6ytns00000gp/T/ipykernel_198/4075212042.py#110\u001b\\\u001b[2m110\u001b[0m\u001b]8;;\u001b\\\n"
      ]
     },
     "metadata": {},
     "output_type": "display_data"
    },
    {
     "data": {
      "text/html": [
       "<pre style=\"white-space:pre;overflow-x:auto;line-height:normal;font-family:Menlo,'DejaVu Sans Mono',consolas,'Courier New',monospace\"><span style=\"color: #7fbfbf; text-decoration-color: #7fbfbf\">                    </span><span style=\"color: #000080; text-decoration-color: #000080\">INFO    </span> Converting the graph to GeoDataFrames<span style=\"color: #808000; text-decoration-color: #808000\">...</span>                             <a href=\"file:///var/folders/dy/_xqj_wpj3jl0lgk31f6ytns00000gp/T/ipykernel_198/4075212042.py\" target=\"_blank\"><span style=\"color: #7f7f7f; text-decoration-color: #7f7f7f\">4075212042.py</span></a><span style=\"color: #7f7f7f; text-decoration-color: #7f7f7f\">:</span><a href=\"file:///var/folders/dy/_xqj_wpj3jl0lgk31f6ytns00000gp/T/ipykernel_198/4075212042.py#112\" target=\"_blank\"><span style=\"color: #7f7f7f; text-decoration-color: #7f7f7f\">112</span></a>\n",
       "</pre>\n"
      ],
      "text/plain": [
       "\u001b[2;36m                   \u001b[0m\u001b[2;36m \u001b[0m\u001b[34mINFO    \u001b[0m Converting the graph to GeoDataFrames\u001b[33m...\u001b[0m                             \u001b]8;id=587498;file:///var/folders/dy/_xqj_wpj3jl0lgk31f6ytns00000gp/T/ipykernel_198/4075212042.py\u001b\\\u001b[2m4075212042.py\u001b[0m\u001b]8;;\u001b\\\u001b[2m:\u001b[0m\u001b]8;id=304176;file:///var/folders/dy/_xqj_wpj3jl0lgk31f6ytns00000gp/T/ipykernel_198/4075212042.py#112\u001b\\\u001b[2m112\u001b[0m\u001b]8;;\u001b\\\n"
      ]
     },
     "metadata": {},
     "output_type": "display_data"
    },
    {
     "data": {
      "text/html": [
       "<pre style=\"white-space:pre;overflow-x:auto;line-height:normal;font-family:Menlo,'DejaVu Sans Mono',consolas,'Courier New',monospace\"><span style=\"color: #7fbfbf; text-decoration-color: #7fbfbf\">[06/26/23 21:27:40] </span><span style=\"color: #000080; text-decoration-color: #000080\">INFO    </span> graph_to_gdfs took <span style=\"color: #008080; text-decoration-color: #008080; font-weight: bold\">0.</span>68s to complete.                                <a href=\"file:///var/folders/dy/_xqj_wpj3jl0lgk31f6ytns00000gp/T/ipykernel_198/4075212042.py\" target=\"_blank\"><span style=\"color: #7f7f7f; text-decoration-color: #7f7f7f\">4075212042.py</span></a><span style=\"color: #7f7f7f; text-decoration-color: #7f7f7f\">:</span><a href=\"file:///var/folders/dy/_xqj_wpj3jl0lgk31f6ytns00000gp/T/ipykernel_198/4075212042.py#119\" target=\"_blank\"><span style=\"color: #7f7f7f; text-decoration-color: #7f7f7f\">119</span></a>\n",
       "</pre>\n"
      ],
      "text/plain": [
       "\u001b[2;36m[06/26/23 21:27:40]\u001b[0m\u001b[2;36m \u001b[0m\u001b[34mINFO    \u001b[0m graph_to_gdfs took \u001b[1;36m0.\u001b[0m68s to complete.                                \u001b]8;id=418352;file:///var/folders/dy/_xqj_wpj3jl0lgk31f6ytns00000gp/T/ipykernel_198/4075212042.py\u001b\\\u001b[2m4075212042.py\u001b[0m\u001b]8;;\u001b\\\u001b[2m:\u001b[0m\u001b]8;id=277916;file:///var/folders/dy/_xqj_wpj3jl0lgk31f6ytns00000gp/T/ipykernel_198/4075212042.py#119\u001b\\\u001b[2m119\u001b[0m\u001b]8;;\u001b\\\n"
      ]
     },
     "metadata": {},
     "output_type": "display_data"
    },
    {
     "data": {
      "text/html": [
       "<pre style=\"white-space:pre;overflow-x:auto;line-height:normal;font-family:Menlo,'DejaVu Sans Mono',consolas,'Courier New',monospace\"><span style=\"color: #7fbfbf; text-decoration-color: #7fbfbf\">                    </span><span style=\"color: #000080; text-decoration-color: #000080\">INFO    </span> Nodes GeoDataFrame contains <span style=\"color: #008080; text-decoration-color: #008080; font-weight: bold\">3278</span> nodes.                              <a href=\"file:///var/folders/dy/_xqj_wpj3jl0lgk31f6ytns00000gp/T/ipykernel_198/4075212042.py\" target=\"_blank\"><span style=\"color: #7f7f7f; text-decoration-color: #7f7f7f\">4075212042.py</span></a><span style=\"color: #7f7f7f; text-decoration-color: #7f7f7f\">:</span><a href=\"file:///var/folders/dy/_xqj_wpj3jl0lgk31f6ytns00000gp/T/ipykernel_198/4075212042.py#124\" target=\"_blank\"><span style=\"color: #7f7f7f; text-decoration-color: #7f7f7f\">124</span></a>\n",
       "</pre>\n"
      ],
      "text/plain": [
       "\u001b[2;36m                   \u001b[0m\u001b[2;36m \u001b[0m\u001b[34mINFO    \u001b[0m Nodes GeoDataFrame contains \u001b[1;36m3278\u001b[0m nodes.                              \u001b]8;id=982746;file:///var/folders/dy/_xqj_wpj3jl0lgk31f6ytns00000gp/T/ipykernel_198/4075212042.py\u001b\\\u001b[2m4075212042.py\u001b[0m\u001b]8;;\u001b\\\u001b[2m:\u001b[0m\u001b]8;id=562859;file:///var/folders/dy/_xqj_wpj3jl0lgk31f6ytns00000gp/T/ipykernel_198/4075212042.py#124\u001b\\\u001b[2m124\u001b[0m\u001b]8;;\u001b\\\n"
      ]
     },
     "metadata": {},
     "output_type": "display_data"
    },
    {
     "data": {
      "text/html": [
       "<pre style=\"white-space:pre;overflow-x:auto;line-height:normal;font-family:Menlo,'DejaVu Sans Mono',consolas,'Courier New',monospace\"><span style=\"color: #7fbfbf; text-decoration-color: #7fbfbf\">                    </span><span style=\"color: #000080; text-decoration-color: #000080\">INFO    </span> Edges GeoDataFrame contains <span style=\"color: #008080; text-decoration-color: #008080; font-weight: bold\">8507</span> edges.                              <a href=\"file:///var/folders/dy/_xqj_wpj3jl0lgk31f6ytns00000gp/T/ipykernel_198/4075212042.py\" target=\"_blank\"><span style=\"color: #7f7f7f; text-decoration-color: #7f7f7f\">4075212042.py</span></a><span style=\"color: #7f7f7f; text-decoration-color: #7f7f7f\">:</span><a href=\"file:///var/folders/dy/_xqj_wpj3jl0lgk31f6ytns00000gp/T/ipykernel_198/4075212042.py#125\" target=\"_blank\"><span style=\"color: #7f7f7f; text-decoration-color: #7f7f7f\">125</span></a>\n",
       "</pre>\n"
      ],
      "text/plain": [
       "\u001b[2;36m                   \u001b[0m\u001b[2;36m \u001b[0m\u001b[34mINFO    \u001b[0m Edges GeoDataFrame contains \u001b[1;36m8507\u001b[0m edges.                              \u001b]8;id=912187;file:///var/folders/dy/_xqj_wpj3jl0lgk31f6ytns00000gp/T/ipykernel_198/4075212042.py\u001b\\\u001b[2m4075212042.py\u001b[0m\u001b]8;;\u001b\\\u001b[2m:\u001b[0m\u001b]8;id=381053;file:///var/folders/dy/_xqj_wpj3jl0lgk31f6ytns00000gp/T/ipykernel_198/4075212042.py#125\u001b\\\u001b[2m125\u001b[0m\u001b]8;;\u001b\\\n"
      ]
     },
     "metadata": {},
     "output_type": "display_data"
    },
    {
     "data": {
      "text/html": [
       "<pre style=\"white-space:pre;overflow-x:auto;line-height:normal;font-family:Menlo,'DejaVu Sans Mono',consolas,'Courier New',monospace\"><span style=\"color: #7fbfbf; text-decoration-color: #7fbfbf\">                    </span><span style=\"color: #000080; text-decoration-color: #000080\">INFO    </span> get_network function took <span style=\"color: #008080; text-decoration-color: #008080; font-weight: bold\">5.305289</span> seconds to complete.              <a href=\"file:///var/folders/dy/_xqj_wpj3jl0lgk31f6ytns00000gp/T/ipykernel_198/4075212042.py\" target=\"_blank\"><span style=\"color: #7f7f7f; text-decoration-color: #7f7f7f\">4075212042.py</span></a><span style=\"color: #7f7f7f; text-decoration-color: #7f7f7f\">:</span><a href=\"file:///var/folders/dy/_xqj_wpj3jl0lgk31f6ytns00000gp/T/ipykernel_198/4075212042.py#128\" target=\"_blank\"><span style=\"color: #7f7f7f; text-decoration-color: #7f7f7f\">128</span></a>\n",
       "</pre>\n"
      ],
      "text/plain": [
       "\u001b[2;36m                   \u001b[0m\u001b[2;36m \u001b[0m\u001b[34mINFO    \u001b[0m get_network function took \u001b[1;36m5.305289\u001b[0m seconds to complete.              \u001b]8;id=870440;file:///var/folders/dy/_xqj_wpj3jl0lgk31f6ytns00000gp/T/ipykernel_198/4075212042.py\u001b\\\u001b[2m4075212042.py\u001b[0m\u001b]8;;\u001b\\\u001b[2m:\u001b[0m\u001b]8;id=605984;file:///var/folders/dy/_xqj_wpj3jl0lgk31f6ytns00000gp/T/ipykernel_198/4075212042.py#128\u001b\\\u001b[2m128\u001b[0m\u001b]8;;\u001b\\\n"
      ]
     },
     "metadata": {},
     "output_type": "display_data"
    }
   ],
   "source": [
    "%reload_kedro\n",
    "lon_col = \"parcelLon\"\n",
    "lat_col = \"parcelLat\"\n",
    "syn_pop_scenarios = catalog.load(\"syn_pop_scenarios\")\n",
    "syn_pop = syn_pop_scenarios[list(syn_pop_scenarios.keys())[0]]()\n",
    "syn_pop = convert_to_geopandas(syn_pop, lat_col=lat_col, lon_col=lon_col)\n",
    "nodes, arcs, convex_buffer = get_network(syn_pop)"
   ]
  },
  {
   "cell_type": "code",
   "execution_count": 141,
   "metadata": {},
   "outputs": [],
   "source": [
    "arcs = arcs.assign(\n",
    "    **{\n",
    "        \"edge_u\": arcs[[\"u\", \"v\"]].min(axis=1),\n",
    "        \"edge_v\": arcs[[\"u\", \"v\"]].max(axis=1),\n",
    "        \"arc_id\": range(len(arcs))\n",
    "    }\n",
    ")\n",
    "arcs = arcs.assign(\n",
    "    **{\n",
    "        \"edge_u_v_length\": arcs[\"edge_u\"].astype(str)\n",
    "        + \"-\"\n",
    "        + arcs[\"edge_v\"].astype(str)\n",
    "        + \"-\"\n",
    "        + arcs[\"length\"].astype(str),\n",
    "    }\n",
    ")\n",
    "candidate_edges = arcs.loc[\n",
    "    arcs.duplicated(subset=[\"edge_u_v_length\"], keep=False) & (arcs[\"oneway\"] == False)\n",
    "].sort_values([\"edge_u_v_length\"])\n",
    "candidate_edges_count = (\n",
    "    candidate_edges.groupby([\"edge_u_v_length\"])\n",
    "    .agg(**{\"count\": (\"edge_u_v_length\", \"count\")})\n",
    "    .reset_index()\n",
    ")\n",
    "edges_count = candidate_edges_count.loc[candidate_edges_count[\"count\"] == 2]"
   ]
  },
  {
   "cell_type": "code",
   "execution_count": 145,
   "metadata": {},
   "outputs": [
    {
     "data": {
      "text/html": [
       "<div>\n",
       "<style scoped>\n",
       "    .dataframe tbody tr th:only-of-type {\n",
       "        vertical-align: middle;\n",
       "    }\n",
       "\n",
       "    .dataframe tbody tr th {\n",
       "        vertical-align: top;\n",
       "    }\n",
       "\n",
       "    .dataframe thead th {\n",
       "        text-align: right;\n",
       "    }\n",
       "</style>\n",
       "<table border=\"1\" class=\"dataframe\">\n",
       "  <thead>\n",
       "    <tr style=\"text-align: right;\">\n",
       "      <th></th>\n",
       "      <th>arc_id</th>\n",
       "      <th>u</th>\n",
       "      <th>v</th>\n",
       "      <th>edge_u_v_length</th>\n",
       "      <th>inv_edge_id</th>\n",
       "    </tr>\n",
       "  </thead>\n",
       "  <tbody>\n",
       "    <tr>\n",
       "      <th>8478</th>\n",
       "      <td>8478</td>\n",
       "      <td>10800412757</td>\n",
       "      <td>10800412766</td>\n",
       "      <td>10800412757-10800412766-43.948</td>\n",
       "      <td>8493</td>\n",
       "    </tr>\n",
       "    <tr>\n",
       "      <th>8493</th>\n",
       "      <td>8493</td>\n",
       "      <td>10800412766</td>\n",
       "      <td>10800412757</td>\n",
       "      <td>10800412757-10800412766-43.948</td>\n",
       "      <td>8478</td>\n",
       "    </tr>\n",
       "    <tr>\n",
       "      <th>8494</th>\n",
       "      <td>8494</td>\n",
       "      <td>10800412766</td>\n",
       "      <td>10800412758</td>\n",
       "      <td>10800412758-10800412766-58.907</td>\n",
       "      <td>8479</td>\n",
       "    </tr>\n",
       "    <tr>\n",
       "      <th>8479</th>\n",
       "      <td>8479</td>\n",
       "      <td>10800412758</td>\n",
       "      <td>10800412766</td>\n",
       "      <td>10800412758-10800412766-58.907</td>\n",
       "      <td>8494</td>\n",
       "    </tr>\n",
       "    <tr>\n",
       "      <th>8480</th>\n",
       "      <td>8480</td>\n",
       "      <td>10800412759</td>\n",
       "      <td>10800412764</td>\n",
       "      <td>10800412759-10800412764-11.368</td>\n",
       "      <td>8490</td>\n",
       "    </tr>\n",
       "    <tr>\n",
       "      <th>...</th>\n",
       "      <td>...</td>\n",
       "      <td>...</td>\n",
       "      <td>...</td>\n",
       "      <td>...</td>\n",
       "      <td>...</td>\n",
       "    </tr>\n",
       "    <tr>\n",
       "      <th>5299</th>\n",
       "      <td>5299</td>\n",
       "      <td>99207133</td>\n",
       "      <td>99207338</td>\n",
       "      <td>99207133-99207338-72.995</td>\n",
       "      <td>5303</td>\n",
       "    </tr>\n",
       "    <tr>\n",
       "      <th>7525</th>\n",
       "      <td>7525</td>\n",
       "      <td>1640354274</td>\n",
       "      <td>99207316</td>\n",
       "      <td>99207316-1640354274-35.267</td>\n",
       "      <td>5301</td>\n",
       "    </tr>\n",
       "    <tr>\n",
       "      <th>5301</th>\n",
       "      <td>5301</td>\n",
       "      <td>99207316</td>\n",
       "      <td>1640354274</td>\n",
       "      <td>99207316-1640354274-35.267</td>\n",
       "      <td>7525</td>\n",
       "    </tr>\n",
       "    <tr>\n",
       "      <th>5300</th>\n",
       "      <td>5300</td>\n",
       "      <td>99207316</td>\n",
       "      <td>99207338</td>\n",
       "      <td>99207316-99207338-72.266</td>\n",
       "      <td>5302</td>\n",
       "    </tr>\n",
       "    <tr>\n",
       "      <th>5302</th>\n",
       "      <td>5302</td>\n",
       "      <td>99207338</td>\n",
       "      <td>99207316</td>\n",
       "      <td>99207316-99207338-72.266</td>\n",
       "      <td>5300</td>\n",
       "    </tr>\n",
       "  </tbody>\n",
       "</table>\n",
       "<p>6668 rows × 5 columns</p>\n",
       "</div>"
      ],
      "text/plain": [
       "      arc_id            u            v                 edge_u_v_length  \\\n",
       "8478    8478  10800412757  10800412766  10800412757-10800412766-43.948   \n",
       "8493    8493  10800412766  10800412757  10800412757-10800412766-43.948   \n",
       "8494    8494  10800412766  10800412758  10800412758-10800412766-58.907   \n",
       "8479    8479  10800412758  10800412766  10800412758-10800412766-58.907   \n",
       "8480    8480  10800412759  10800412764  10800412759-10800412764-11.368   \n",
       "...      ...          ...          ...                             ...   \n",
       "5299    5299     99207133     99207338        99207133-99207338-72.995   \n",
       "7525    7525   1640354274     99207316      99207316-1640354274-35.267   \n",
       "5301    5301     99207316   1640354274      99207316-1640354274-35.267   \n",
       "5300    5300     99207316     99207338        99207316-99207338-72.266   \n",
       "5302    5302     99207338     99207316        99207316-99207338-72.266   \n",
       "\n",
       "      inv_edge_id  \n",
       "8478         8493  \n",
       "8493         8478  \n",
       "8494         8479  \n",
       "8479         8494  \n",
       "8480         8490  \n",
       "...           ...  \n",
       "5299         5303  \n",
       "7525         5301  \n",
       "5301         7525  \n",
       "5300         5302  \n",
       "5302         5300  \n",
       "\n",
       "[6668 rows x 5 columns]"
      ]
     },
     "execution_count": 145,
     "metadata": {},
     "output_type": "execute_result"
    }
   ],
   "source": [
    "edges = (\n",
    "    arcs.loc[arcs[\"edge_u_v_length\"].isin(edges_count[\"edge_u_v_length\"])]\n",
    "    .copy()[[\"arc_id\", \"u\", \"v\", \"edge_u_v_length\"]]\n",
    "    .sort_values([\"edge_u_v_length\"])\n",
    ")\n",
    "edges_u = edges.drop_duplicates(subset=[\"edge_u_v_length\"], keep=\"first\")\n",
    "edges_v = edges.drop_duplicates(subset=[\"edge_u_v_length\"], keep=\"last\")\n",
    "edges_u = edges_u.assign(inv_edge_id=edges_v[\"arc_id\"].values)\n",
    "edges_v = edges_v.assign(inv_edge_id=edges_u[\"arc_id\"].values)\n",
    "edges = pd.concat([edges_u, edges_v]).sort_values([\"edge_u_v_length\"])\n",
    "edges"
   ]
  },
  {
   "cell_type": "code",
   "execution_count": null,
   "metadata": {},
   "outputs": [
    {
     "name": "stdout",
     "output_type": "stream",
     "text": [
      "User Guide: https://docs.kepler.gl/docs/keplergl-jupyter\n"
     ]
    },
    {
     "data": {
      "text/html": [
       "<pre style=\"white-space:pre;overflow-x:auto;line-height:normal;font-family:Menlo,'DejaVu Sans Mono',consolas,'Courier New',monospace\"><span style=\"color: #7fbfbf; text-decoration-color: #7fbfbf\">[06/26/23 18:20:34] </span><span style=\"color: #800000; text-decoration-color: #800000\">WARNING </span> <span style=\"color: #800080; text-decoration-color: #800080\">/Users/ejwillemse/dev/projects/project-rdi-cape-town/.venv/lib/python3</span> <a href=\"file:///Users/ejwillemse/.pyenv/versions/3.10.8/lib/python3.10/warnings.py\" target=\"_blank\"><span style=\"color: #7f7f7f; text-decoration-color: #7f7f7f\">warnings.py</span></a><span style=\"color: #7f7f7f; text-decoration-color: #7f7f7f\">:</span><a href=\"file:///Users/ejwillemse/.pyenv/versions/3.10.8/lib/python3.10/warnings.py#109\" target=\"_blank\"><span style=\"color: #7f7f7f; text-decoration-color: #7f7f7f\">109</span></a>\n",
       "<span style=\"color: #7fbfbf; text-decoration-color: #7fbfbf\">                    </span>         <span style=\"color: #800080; text-decoration-color: #800080\">.10/site-packages/jupyter_client/</span><span style=\"color: #ff00ff; text-decoration-color: #ff00ff\">session.py</span>:<span style=\"color: #008080; text-decoration-color: #008080; font-weight: bold\">719</span>: UserWarning: Message  <span style=\"color: #7f7f7f; text-decoration-color: #7f7f7f\">               </span>\n",
       "<span style=\"color: #7fbfbf; text-decoration-color: #7fbfbf\">                    </span>         serialization failed with:                                             <span style=\"color: #7f7f7f; text-decoration-color: #7f7f7f\">               </span>\n",
       "<span style=\"color: #7fbfbf; text-decoration-color: #7fbfbf\">                    </span>         Out of range float values are not JSON compliant                       <span style=\"color: #7f7f7f; text-decoration-color: #7f7f7f\">               </span>\n",
       "<span style=\"color: #7fbfbf; text-decoration-color: #7fbfbf\">                    </span>         Supporting this message is deprecated in jupyter-client <span style=\"color: #008080; text-decoration-color: #008080; font-weight: bold\">7</span>, please make <span style=\"color: #7f7f7f; text-decoration-color: #7f7f7f\">               </span>\n",
       "<span style=\"color: #7fbfbf; text-decoration-color: #7fbfbf\">                    </span>         sure your message is JSON-compliant                                    <span style=\"color: #7f7f7f; text-decoration-color: #7f7f7f\">               </span>\n",
       "<span style=\"color: #7fbfbf; text-decoration-color: #7fbfbf\">                    </span>           content = <span style=\"color: #800080; text-decoration-color: #800080; font-weight: bold\">self.pack</span><span style=\"font-weight: bold\">(</span>content<span style=\"font-weight: bold\">)</span>                                         <span style=\"color: #7f7f7f; text-decoration-color: #7f7f7f\">               </span>\n",
       "<span style=\"color: #7fbfbf; text-decoration-color: #7fbfbf\">                    </span>                                                                                <span style=\"color: #7f7f7f; text-decoration-color: #7f7f7f\">               </span>\n",
       "</pre>\n"
      ],
      "text/plain": [
       "\u001b[2;36m[06/26/23 18:20:34]\u001b[0m\u001b[2;36m \u001b[0m\u001b[31mWARNING \u001b[0m \u001b[35m/Users/ejwillemse/dev/projects/project-rdi-cape-town/.venv/lib/python3\u001b[0m \u001b]8;id=329015;file:///Users/ejwillemse/.pyenv/versions/3.10.8/lib/python3.10/warnings.py\u001b\\\u001b[2mwarnings.py\u001b[0m\u001b]8;;\u001b\\\u001b[2m:\u001b[0m\u001b]8;id=3386;file:///Users/ejwillemse/.pyenv/versions/3.10.8/lib/python3.10/warnings.py#109\u001b\\\u001b[2m109\u001b[0m\u001b]8;;\u001b\\\n",
       "\u001b[2;36m                    \u001b[0m         \u001b[35m.10/site-packages/jupyter_client/\u001b[0m\u001b[95msession.py\u001b[0m:\u001b[1;36m719\u001b[0m: UserWarning: Message  \u001b[2m               \u001b[0m\n",
       "\u001b[2;36m                    \u001b[0m         serialization failed with:                                             \u001b[2m               \u001b[0m\n",
       "\u001b[2;36m                    \u001b[0m         Out of range float values are not JSON compliant                       \u001b[2m               \u001b[0m\n",
       "\u001b[2;36m                    \u001b[0m         Supporting this message is deprecated in jupyter-client \u001b[1;36m7\u001b[0m, please make \u001b[2m               \u001b[0m\n",
       "\u001b[2;36m                    \u001b[0m         sure your message is JSON-compliant                                    \u001b[2m               \u001b[0m\n",
       "\u001b[2;36m                    \u001b[0m           content = \u001b[1;35mself.pack\u001b[0m\u001b[1m(\u001b[0mcontent\u001b[1m)\u001b[0m                                         \u001b[2m               \u001b[0m\n",
       "\u001b[2;36m                    \u001b[0m                                                                                \u001b[2m               \u001b[0m\n"
      ]
     },
     "metadata": {},
     "output_type": "display_data"
    }
   ],
   "source": [
    "map_1 = KeplerGl(\n",
    "    height=1000,\n",
    "    data={\n",
    "        \"pop\": syn_pop.copy(),\n",
    "        \"nodes\": nodes.copy(),\n",
    "        \"edges\": edges.copy(),\n",
    "        \"boundary\": convex_buffer.copy(),\n",
    "    },\n",
    ")"
   ]
  },
  {
   "cell_type": "code",
   "execution_count": null,
   "metadata": {},
   "outputs": [
    {
     "data": {
      "application/vnd.jupyter.widget-view+json": {
       "model_id": "00c44403743f43cda2381de132ee6fbf",
       "version_major": 2,
       "version_minor": 0
      },
      "text/plain": [
       "KeplerGl(data={'pop':             id        income carAccess dwellingTenure housingType  \\\n",
       "0       609273  1.9…"
      ]
     },
     "metadata": {},
     "output_type": "display_data"
    }
   ],
   "source": [
    "map_1"
   ]
  },
  {
   "cell_type": "code",
   "execution_count": null,
   "metadata": {},
   "outputs": [
    {
     "data": {
      "text/html": [
       "<div>\n",
       "<style scoped>\n",
       "    .dataframe tbody tr th:only-of-type {\n",
       "        vertical-align: middle;\n",
       "    }\n",
       "\n",
       "    .dataframe tbody tr th {\n",
       "        vertical-align: top;\n",
       "    }\n",
       "\n",
       "    .dataframe thead th {\n",
       "        text-align: right;\n",
       "    }\n",
       "</style>\n",
       "<table border=\"1\" class=\"dataframe\">\n",
       "  <thead>\n",
       "    <tr style=\"text-align: right;\">\n",
       "      <th></th>\n",
       "      <th>id</th>\n",
       "      <th>income</th>\n",
       "      <th>carAccess</th>\n",
       "      <th>dwellingTenure</th>\n",
       "      <th>housingType</th>\n",
       "      <th>mainDwellingType</th>\n",
       "      <th>numberOfDwellingRooms</th>\n",
       "      <th>pipedWater</th>\n",
       "      <th>toilet</th>\n",
       "      <th>parcelLon</th>\n",
       "      <th>parcelLat</th>\n",
       "      <th>parcelX</th>\n",
       "      <th>parcelY</th>\n",
       "      <th>homeToParcelDistance</th>\n",
       "      <th>geometry</th>\n",
       "    </tr>\n",
       "  </thead>\n",
       "  <tbody>\n",
       "    <tr>\n",
       "      <th>0</th>\n",
       "      <td>609273</td>\n",
       "      <td>1.927584e+06</td>\n",
       "      <td>Yes</td>\n",
       "      <td>Rented</td>\n",
       "      <td>House</td>\n",
       "      <td>FormalHouse</td>\n",
       "      <td>7</td>\n",
       "      <td>Piped_dwelling</td>\n",
       "      <td>Flush_sewerage</td>\n",
       "      <td>18.475017</td>\n",
       "      <td>-33.988069</td>\n",
       "      <td>-48507</td>\n",
       "      <td>-3762462</td>\n",
       "      <td>3881</td>\n",
       "      <td>POINT (18.47502 -33.98807)</td>\n",
       "    </tr>\n",
       "    <tr>\n",
       "      <th>1</th>\n",
       "      <td>609316</td>\n",
       "      <td>3.011850e+04</td>\n",
       "      <td>No</td>\n",
       "      <td>OwnedPaidOff</td>\n",
       "      <td>House</td>\n",
       "      <td>FormalHouse</td>\n",
       "      <td>4</td>\n",
       "      <td>Piped_dwelling</td>\n",
       "      <td>Flush_sewerage</td>\n",
       "      <td>18.462491</td>\n",
       "      <td>-33.981217</td>\n",
       "      <td>-49669</td>\n",
       "      <td>-3761708</td>\n",
       "      <td>4000</td>\n",
       "      <td>POINT (18.46249 -33.98122)</td>\n",
       "    </tr>\n",
       "    <tr>\n",
       "      <th>2</th>\n",
       "      <td>609322</td>\n",
       "      <td>9.637921e+05</td>\n",
       "      <td>Yes</td>\n",
       "      <td>OwnedPaidOff</td>\n",
       "      <td>House</td>\n",
       "      <td>SemiDetachedHouse</td>\n",
       "      <td>4</td>\n",
       "      <td>Piped_dwelling</td>\n",
       "      <td>Flush_sewerage</td>\n",
       "      <td>18.479705</td>\n",
       "      <td>-33.984255</td>\n",
       "      <td>-48076</td>\n",
       "      <td>-3762037</td>\n",
       "      <td>3106</td>\n",
       "      <td>POINT (18.47970 -33.98425)</td>\n",
       "    </tr>\n",
       "    <tr>\n",
       "      <th>3</th>\n",
       "      <td>609327</td>\n",
       "      <td>2.409480e+05</td>\n",
       "      <td>No</td>\n",
       "      <td>OwnedPaying</td>\n",
       "      <td>House</td>\n",
       "      <td>FormalHouse</td>\n",
       "      <td>1</td>\n",
       "      <td>Piped_dwelling</td>\n",
       "      <td>Flush_sewerage</td>\n",
       "      <td>18.462500</td>\n",
       "      <td>-33.986328</td>\n",
       "      <td>-49665</td>\n",
       "      <td>-3762275</td>\n",
       "      <td>4220</td>\n",
       "      <td>POINT (18.46250 -33.98633)</td>\n",
       "    </tr>\n",
       "    <tr>\n",
       "      <th>4</th>\n",
       "      <td>609371</td>\n",
       "      <td>4.818960e+05</td>\n",
       "      <td>Yes</td>\n",
       "      <td>OwnedPaying</td>\n",
       "      <td>House</td>\n",
       "      <td>FormalHouse</td>\n",
       "      <td>2</td>\n",
       "      <td>Piped_dwelling</td>\n",
       "      <td>Flush_sewerage</td>\n",
       "      <td>18.475533</td>\n",
       "      <td>-33.985806</td>\n",
       "      <td>-48461</td>\n",
       "      <td>-3762211</td>\n",
       "      <td>3595</td>\n",
       "      <td>POINT (18.47553 -33.98581)</td>\n",
       "    </tr>\n",
       "    <tr>\n",
       "      <th>...</th>\n",
       "      <td>...</td>\n",
       "      <td>...</td>\n",
       "      <td>...</td>\n",
       "      <td>...</td>\n",
       "      <td>...</td>\n",
       "      <td>...</td>\n",
       "      <td>...</td>\n",
       "      <td>...</td>\n",
       "      <td>...</td>\n",
       "      <td>...</td>\n",
       "      <td>...</td>\n",
       "      <td>...</td>\n",
       "      <td>...</td>\n",
       "      <td>...</td>\n",
       "      <td>...</td>\n",
       "    </tr>\n",
       "    <tr>\n",
       "      <th>38598</th>\n",
       "      <td>1229025</td>\n",
       "      <td>9.637921e+05</td>\n",
       "      <td>Yes</td>\n",
       "      <td>OwnedPaidOff</td>\n",
       "      <td>House</td>\n",
       "      <td>FormalHouse</td>\n",
       "      <td>6</td>\n",
       "      <td>Piped_dwelling</td>\n",
       "      <td>Flush_sewerage</td>\n",
       "      <td>18.478323</td>\n",
       "      <td>-33.983646</td>\n",
       "      <td>-48204</td>\n",
       "      <td>-3761970</td>\n",
       "      <td>4915</td>\n",
       "      <td>POINT (18.47832 -33.98365)</td>\n",
       "    </tr>\n",
       "    <tr>\n",
       "      <th>38599</th>\n",
       "      <td>1229028</td>\n",
       "      <td>1.204740e+05</td>\n",
       "      <td>No</td>\n",
       "      <td>Rented</td>\n",
       "      <td>House</td>\n",
       "      <td>Apartment</td>\n",
       "      <td>3</td>\n",
       "      <td>Piped_dwelling</td>\n",
       "      <td>Flush_sewerage</td>\n",
       "      <td>18.481612</td>\n",
       "      <td>-33.987645</td>\n",
       "      <td>-47898</td>\n",
       "      <td>-3762412</td>\n",
       "      <td>4582</td>\n",
       "      <td>POINT (18.48161 -33.98765)</td>\n",
       "    </tr>\n",
       "    <tr>\n",
       "      <th>38600</th>\n",
       "      <td>1229073</td>\n",
       "      <td>4.818960e+05</td>\n",
       "      <td>Yes</td>\n",
       "      <td>OwnedPaidOff</td>\n",
       "      <td>House</td>\n",
       "      <td>Apartment</td>\n",
       "      <td>4</td>\n",
       "      <td>Piped_dwelling</td>\n",
       "      <td>Flush_sewerage</td>\n",
       "      <td>18.480235</td>\n",
       "      <td>-33.985628</td>\n",
       "      <td>-48027</td>\n",
       "      <td>-3762189</td>\n",
       "      <td>5404</td>\n",
       "      <td>POINT (18.48024 -33.98563)</td>\n",
       "    </tr>\n",
       "    <tr>\n",
       "      <th>38601</th>\n",
       "      <td>1229245</td>\n",
       "      <td>3.855168e+06</td>\n",
       "      <td>Yes</td>\n",
       "      <td>OwnedPaidOff</td>\n",
       "      <td>House</td>\n",
       "      <td>FormalHouse</td>\n",
       "      <td>8</td>\n",
       "      <td>Piped_dwelling</td>\n",
       "      <td>Flush_sewerage</td>\n",
       "      <td>18.480124</td>\n",
       "      <td>-34.020240</td>\n",
       "      <td>-48017</td>\n",
       "      <td>-3766028</td>\n",
       "      <td>2453</td>\n",
       "      <td>POINT (18.48012 -34.02024)</td>\n",
       "    </tr>\n",
       "    <tr>\n",
       "      <th>38602</th>\n",
       "      <td>1230436</td>\n",
       "      <td>9.637921e+05</td>\n",
       "      <td>Yes</td>\n",
       "      <td>OwnedPaidOff</td>\n",
       "      <td>House</td>\n",
       "      <td>FormalHouse</td>\n",
       "      <td>4</td>\n",
       "      <td>Piped_yard</td>\n",
       "      <td>Flush_sewerage</td>\n",
       "      <td>18.466268</td>\n",
       "      <td>-33.997217</td>\n",
       "      <td>-49311</td>\n",
       "      <td>-3763481</td>\n",
       "      <td>3528</td>\n",
       "      <td>POINT (18.46627 -33.99722)</td>\n",
       "    </tr>\n",
       "  </tbody>\n",
       "</table>\n",
       "<p>38603 rows × 15 columns</p>\n",
       "</div>"
      ],
      "text/plain": [
       "            id        income carAccess dwellingTenure housingType  \\\n",
       "0       609273  1.927584e+06       Yes         Rented       House   \n",
       "1       609316  3.011850e+04        No   OwnedPaidOff       House   \n",
       "2       609322  9.637921e+05       Yes   OwnedPaidOff       House   \n",
       "3       609327  2.409480e+05        No    OwnedPaying       House   \n",
       "4       609371  4.818960e+05       Yes    OwnedPaying       House   \n",
       "...        ...           ...       ...            ...         ...   \n",
       "38598  1229025  9.637921e+05       Yes   OwnedPaidOff       House   \n",
       "38599  1229028  1.204740e+05        No         Rented       House   \n",
       "38600  1229073  4.818960e+05       Yes   OwnedPaidOff       House   \n",
       "38601  1229245  3.855168e+06       Yes   OwnedPaidOff       House   \n",
       "38602  1230436  9.637921e+05       Yes   OwnedPaidOff       House   \n",
       "\n",
       "        mainDwellingType  numberOfDwellingRooms      pipedWater  \\\n",
       "0            FormalHouse                      7  Piped_dwelling   \n",
       "1            FormalHouse                      4  Piped_dwelling   \n",
       "2      SemiDetachedHouse                      4  Piped_dwelling   \n",
       "3            FormalHouse                      1  Piped_dwelling   \n",
       "4            FormalHouse                      2  Piped_dwelling   \n",
       "...                  ...                    ...             ...   \n",
       "38598        FormalHouse                      6  Piped_dwelling   \n",
       "38599          Apartment                      3  Piped_dwelling   \n",
       "38600          Apartment                      4  Piped_dwelling   \n",
       "38601        FormalHouse                      8  Piped_dwelling   \n",
       "38602        FormalHouse                      4      Piped_yard   \n",
       "\n",
       "               toilet  parcelLon  parcelLat  parcelX  parcelY  \\\n",
       "0      Flush_sewerage  18.475017 -33.988069   -48507 -3762462   \n",
       "1      Flush_sewerage  18.462491 -33.981217   -49669 -3761708   \n",
       "2      Flush_sewerage  18.479705 -33.984255   -48076 -3762037   \n",
       "3      Flush_sewerage  18.462500 -33.986328   -49665 -3762275   \n",
       "4      Flush_sewerage  18.475533 -33.985806   -48461 -3762211   \n",
       "...               ...        ...        ...      ...      ...   \n",
       "38598  Flush_sewerage  18.478323 -33.983646   -48204 -3761970   \n",
       "38599  Flush_sewerage  18.481612 -33.987645   -47898 -3762412   \n",
       "38600  Flush_sewerage  18.480235 -33.985628   -48027 -3762189   \n",
       "38601  Flush_sewerage  18.480124 -34.020240   -48017 -3766028   \n",
       "38602  Flush_sewerage  18.466268 -33.997217   -49311 -3763481   \n",
       "\n",
       "       homeToParcelDistance                    geometry  \n",
       "0                      3881  POINT (18.47502 -33.98807)  \n",
       "1                      4000  POINT (18.46249 -33.98122)  \n",
       "2                      3106  POINT (18.47970 -33.98425)  \n",
       "3                      4220  POINT (18.46250 -33.98633)  \n",
       "4                      3595  POINT (18.47553 -33.98581)  \n",
       "...                     ...                         ...  \n",
       "38598                  4915  POINT (18.47832 -33.98365)  \n",
       "38599                  4582  POINT (18.48161 -33.98765)  \n",
       "38600                  5404  POINT (18.48024 -33.98563)  \n",
       "38601                  2453  POINT (18.48012 -34.02024)  \n",
       "38602                  3528  POINT (18.46627 -33.99722)  \n",
       "\n",
       "[38603 rows x 15 columns]"
      ]
     },
     "execution_count": 9,
     "metadata": {},
     "output_type": "execute_result"
    }
   ],
   "source": [
    "syn_pop"
   ]
  },
  {
   "cell_type": "code",
   "execution_count": 68,
   "metadata": {},
   "outputs": [],
   "source": [
    "edges = edges.assign(**{\"edge_id\": range(len(edges))})"
   ]
  },
  {
   "cell_type": "code",
   "execution_count": 69,
   "metadata": {},
   "outputs": [],
   "source": [
    "syn_pop_xy = syn_pop.to_crs(\"epsg:3857\").drop_duplicates(\n",
    "    subset=[\"parcelLon\", \"parcelLat\"]\n",
    ")\n",
    "\n",
    "edges_xy = edges.to_crs(\"epsg:3857\")\n",
    "syn_pop_edge_match = gpd.sjoin_nearest(\n",
    "    syn_pop_xy, edges_xy, how=\"left\", distance_col=\"dist__m\"\n",
    ")\n",
    "syn_pop_edge_match_pure = (\n",
    "    syn_pop_edge_match.drop_duplicates(subset=[\"parcelLon\", \"parcelLat\"])\n",
    "    .drop_duplicates(subset=[\"id\"])\n",
    "    .reset_index(drop=True)\n",
    ")\n",
    "nearest_edges_xy = edges_xy.iloc[syn_pop_edge_match_pure[\"edge_id\"].values].reset_index(drop=True)\n",
    "\n",
    "pos = nearest_edges_xy.geometry.project(gpd.GeoSeries(syn_pop_edge_match_pure.geometry))\n",
    "new_pts = nearest_edges_xy.geometry.interpolate(pos)\n",
    "match_points = new_pts.to_crs(\"EPSG:4326\")\n",
    "syn_pop_edge_match_pure = syn_pop_edge_match_pure.assign(\n",
    "    lon_match=match_points.x.values, lat_match=match_points.y.values\n",
    ")[[\"parcelLon\", \"parcelLat\", \"lon_match\", \"lat_match\", \"edge_id\", \"dist__m\"]]\n",
    "\n",
    "syn_pop = syn_pop.drop(columns=[\"geometry\"]).merge(syn_pop_edge_match_pure).merge(\n",
    "    edges, left_on=\"edge_id\", right_on=\"edge_id\", validate=\"m:1\"\n",
    ")"
   ]
  },
  {
   "cell_type": "code",
   "execution_count": null,
   "metadata": {},
   "outputs": [
    {
     "name": "stdout",
     "output_type": "stream",
     "text": [
      "User Guide: https://docs.kepler.gl/docs/keplergl-jupyter\n"
     ]
    },
    {
     "data": {
      "text/html": [
       "<pre style=\"white-space:pre;overflow-x:auto;line-height:normal;font-family:Menlo,'DejaVu Sans Mono',consolas,'Courier New',monospace\"><span style=\"color: #7fbfbf; text-decoration-color: #7fbfbf\">[06/26/23 20:08:33] </span><span style=\"color: #800000; text-decoration-color: #800000\">WARNING </span> <span style=\"color: #800080; text-decoration-color: #800080\">/Users/ejwillemse/dev/projects/project-rdi-cape-town/.venv/lib/python3</span> <a href=\"file:///Users/ejwillemse/.pyenv/versions/3.10.8/lib/python3.10/warnings.py\" target=\"_blank\"><span style=\"color: #7f7f7f; text-decoration-color: #7f7f7f\">warnings.py</span></a><span style=\"color: #7f7f7f; text-decoration-color: #7f7f7f\">:</span><a href=\"file:///Users/ejwillemse/.pyenv/versions/3.10.8/lib/python3.10/warnings.py#109\" target=\"_blank\"><span style=\"color: #7f7f7f; text-decoration-color: #7f7f7f\">109</span></a>\n",
       "<span style=\"color: #7fbfbf; text-decoration-color: #7fbfbf\">                    </span>         <span style=\"color: #800080; text-decoration-color: #800080\">.10/site-packages/jupyter_client/</span><span style=\"color: #ff00ff; text-decoration-color: #ff00ff\">session.py</span>:<span style=\"color: #008080; text-decoration-color: #008080; font-weight: bold\">719</span>: UserWarning: Message  <span style=\"color: #7f7f7f; text-decoration-color: #7f7f7f\">               </span>\n",
       "<span style=\"color: #7fbfbf; text-decoration-color: #7fbfbf\">                    </span>         serialization failed with:                                             <span style=\"color: #7f7f7f; text-decoration-color: #7f7f7f\">               </span>\n",
       "<span style=\"color: #7fbfbf; text-decoration-color: #7fbfbf\">                    </span>         Out of range float values are not JSON compliant                       <span style=\"color: #7f7f7f; text-decoration-color: #7f7f7f\">               </span>\n",
       "<span style=\"color: #7fbfbf; text-decoration-color: #7fbfbf\">                    </span>         Supporting this message is deprecated in jupyter-client <span style=\"color: #008080; text-decoration-color: #008080; font-weight: bold\">7</span>, please make <span style=\"color: #7f7f7f; text-decoration-color: #7f7f7f\">               </span>\n",
       "<span style=\"color: #7fbfbf; text-decoration-color: #7fbfbf\">                    </span>         sure your message is JSON-compliant                                    <span style=\"color: #7f7f7f; text-decoration-color: #7f7f7f\">               </span>\n",
       "<span style=\"color: #7fbfbf; text-decoration-color: #7fbfbf\">                    </span>           content = <span style=\"color: #800080; text-decoration-color: #800080; font-weight: bold\">self.pack</span><span style=\"font-weight: bold\">(</span>content<span style=\"font-weight: bold\">)</span>                                         <span style=\"color: #7f7f7f; text-decoration-color: #7f7f7f\">               </span>\n",
       "<span style=\"color: #7fbfbf; text-decoration-color: #7fbfbf\">                    </span>                                                                                <span style=\"color: #7f7f7f; text-decoration-color: #7f7f7f\">               </span>\n",
       "</pre>\n"
      ],
      "text/plain": [
       "\u001b[2;36m[06/26/23 20:08:33]\u001b[0m\u001b[2;36m \u001b[0m\u001b[31mWARNING \u001b[0m \u001b[35m/Users/ejwillemse/dev/projects/project-rdi-cape-town/.venv/lib/python3\u001b[0m \u001b]8;id=605381;file:///Users/ejwillemse/.pyenv/versions/3.10.8/lib/python3.10/warnings.py\u001b\\\u001b[2mwarnings.py\u001b[0m\u001b]8;;\u001b\\\u001b[2m:\u001b[0m\u001b]8;id=239518;file:///Users/ejwillemse/.pyenv/versions/3.10.8/lib/python3.10/warnings.py#109\u001b\\\u001b[2m109\u001b[0m\u001b]8;;\u001b\\\n",
       "\u001b[2;36m                    \u001b[0m         \u001b[35m.10/site-packages/jupyter_client/\u001b[0m\u001b[95msession.py\u001b[0m:\u001b[1;36m719\u001b[0m: UserWarning: Message  \u001b[2m               \u001b[0m\n",
       "\u001b[2;36m                    \u001b[0m         serialization failed with:                                             \u001b[2m               \u001b[0m\n",
       "\u001b[2;36m                    \u001b[0m         Out of range float values are not JSON compliant                       \u001b[2m               \u001b[0m\n",
       "\u001b[2;36m                    \u001b[0m         Supporting this message is deprecated in jupyter-client \u001b[1;36m7\u001b[0m, please make \u001b[2m               \u001b[0m\n",
       "\u001b[2;36m                    \u001b[0m         sure your message is JSON-compliant                                    \u001b[2m               \u001b[0m\n",
       "\u001b[2;36m                    \u001b[0m           content = \u001b[1;35mself.pack\u001b[0m\u001b[1m(\u001b[0mcontent\u001b[1m)\u001b[0m                                         \u001b[2m               \u001b[0m\n",
       "\u001b[2;36m                    \u001b[0m                                                                                \u001b[2m               \u001b[0m\n"
      ]
     },
     "metadata": {},
     "output_type": "display_data"
    }
   ],
   "source": [
    "map_2 = KeplerGl(\n",
    "    height=1000,\n",
    "    data={\n",
    "        \"pop\": syn_pop.copy(),\n",
    "        \"nodes\": nodes.copy(),\n",
    "        \"edges\": edges.copy(),\n",
    "        \"match\": syn_pop_edge_match_pure.copy(),\n",
    "    },\n",
    ")"
   ]
  },
  {
   "cell_type": "code",
   "execution_count": null,
   "metadata": {},
   "outputs": [
    {
     "data": {
      "application/vnd.jupyter.widget-view+json": {
       "model_id": "f51b592ad5814926a6a5d09fff8cdc71",
       "version_major": 2,
       "version_minor": 0
      },
      "text/plain": [
       "KeplerGl(data={'pop':             id        income carAccess dwellingTenure housingType  \\\n",
       "0       609273  1.9…"
      ]
     },
     "metadata": {},
     "output_type": "display_data"
    }
   ],
   "source": [
    "map_2"
   ]
  },
  {
   "cell_type": "code",
   "execution_count": null,
   "metadata": {},
   "outputs": [],
   "source": []
  }
 ],
 "metadata": {
  "kernelspec": {
   "display_name": ".venv",
   "language": "python",
   "name": "python3"
  },
  "language_info": {
   "codemirror_mode": {
    "name": "ipython",
    "version": 3
   },
   "file_extension": ".py",
   "mimetype": "text/x-python",
   "name": "python",
   "nbconvert_exporter": "python",
   "pygments_lexer": "ipython3",
   "version": "3.10.8"
  },
  "orig_nbformat": 4,
  "vscode": {
   "interpreter": {
    "hash": "b938c656de6c4149e2e63e33d1587874e12d31e52641befcd0b304427d93160a"
   }
  }
 },
 "nbformat": 4,
 "nbformat_minor": 2
}
