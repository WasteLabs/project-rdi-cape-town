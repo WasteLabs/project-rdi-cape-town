{
 "cells": [
  {
   "attachments": {},
   "cell_type": "markdown",
   "metadata": {},
   "source": [
    "This notebook can be rerun as often as needed"
   ]
  },
  {
   "cell_type": "code",
   "execution_count": 12,
   "metadata": {},
   "outputs": [
    {
     "name": "stdout",
     "output_type": "stream",
     "text": [
      "The kedro.ipython extension is already loaded. To reload it, use:\n",
      "  %reload_ext kedro.ipython\n"
     ]
    },
    {
     "data": {
      "text/html": [
       "<pre style=\"white-space:pre;overflow-x:auto;line-height:normal;font-family:Menlo,'DejaVu Sans Mono',consolas,'Courier New',monospace\"><span style=\"color: #7fbfbf; text-decoration-color: #7fbfbf\">[06/23/23 20:43:59] </span><span style=\"color: #000080; text-decoration-color: #000080\">INFO    </span> Resolved project path as:                                              <a href=\"file:///Users/ejwillemse/dev/projects/project-rdi-cape-town/.venv/lib/python3.10/site-packages/kedro/ipython/__init__.py\" target=\"_blank\"><span style=\"color: #7f7f7f; text-decoration-color: #7f7f7f\">__init__.py</span></a><span style=\"color: #7f7f7f; text-decoration-color: #7f7f7f\">:</span><a href=\"file:///Users/ejwillemse/dev/projects/project-rdi-cape-town/.venv/lib/python3.10/site-packages/kedro/ipython/__init__.py#136\" target=\"_blank\"><span style=\"color: #7f7f7f; text-decoration-color: #7f7f7f\">136</span></a>\n",
       "<span style=\"color: #7fbfbf; text-decoration-color: #7fbfbf\">                    </span>         <span style=\"color: #800080; text-decoration-color: #800080\">/Users/ejwillemse/dev/projects/</span><span style=\"color: #ff00ff; text-decoration-color: #ff00ff\">project-rdi-cape-town.</span>                  <span style=\"color: #7f7f7f; text-decoration-color: #7f7f7f\">               </span>\n",
       "<span style=\"color: #7fbfbf; text-decoration-color: #7fbfbf\">                    </span>         To set a different path, run <span style=\"color: #008000; text-decoration-color: #008000\">'%reload_kedro &lt;project_root&gt;'</span>            <span style=\"color: #7f7f7f; text-decoration-color: #7f7f7f\">               </span>\n",
       "</pre>\n"
      ],
      "text/plain": [
       "\u001b[2;36m[06/23/23 20:43:59]\u001b[0m\u001b[2;36m \u001b[0m\u001b[34mINFO    \u001b[0m Resolved project path as:                                              \u001b]8;id=726580;file:///Users/ejwillemse/dev/projects/project-rdi-cape-town/.venv/lib/python3.10/site-packages/kedro/ipython/__init__.py\u001b\\\u001b[2m__init__.py\u001b[0m\u001b]8;;\u001b\\\u001b[2m:\u001b[0m\u001b]8;id=281785;file:///Users/ejwillemse/dev/projects/project-rdi-cape-town/.venv/lib/python3.10/site-packages/kedro/ipython/__init__.py#136\u001b\\\u001b[2m136\u001b[0m\u001b]8;;\u001b\\\n",
       "\u001b[2;36m                    \u001b[0m         \u001b[35m/Users/ejwillemse/dev/projects/\u001b[0m\u001b[95mproject-rdi-cape-town.\u001b[0m                  \u001b[2m               \u001b[0m\n",
       "\u001b[2;36m                    \u001b[0m         To set a different path, run \u001b[32m'%reload_kedro \u001b[0m\u001b[32m<\u001b[0m\u001b[32mproject_root\u001b[0m\u001b[32m>\u001b[0m\u001b[32m'\u001b[0m            \u001b[2m               \u001b[0m\n"
      ]
     },
     "metadata": {},
     "output_type": "display_data"
    },
    {
     "data": {
      "text/html": [
       "<pre style=\"white-space:pre;overflow-x:auto;line-height:normal;font-family:Menlo,'DejaVu Sans Mono',consolas,'Courier New',monospace\"><span style=\"color: #7fbfbf; text-decoration-color: #7fbfbf\">[06/23/23 20:44:01] </span><span style=\"color: #000080; text-decoration-color: #000080\">INFO    </span> Kedro project Project RDI Cape Town                                    <a href=\"file:///Users/ejwillemse/dev/projects/project-rdi-cape-town/.venv/lib/python3.10/site-packages/kedro/ipython/__init__.py\" target=\"_blank\"><span style=\"color: #7f7f7f; text-decoration-color: #7f7f7f\">__init__.py</span></a><span style=\"color: #7f7f7f; text-decoration-color: #7f7f7f\">:</span><a href=\"file:///Users/ejwillemse/dev/projects/project-rdi-cape-town/.venv/lib/python3.10/site-packages/kedro/ipython/__init__.py#105\" target=\"_blank\"><span style=\"color: #7f7f7f; text-decoration-color: #7f7f7f\">105</span></a>\n",
       "</pre>\n"
      ],
      "text/plain": [
       "\u001b[2;36m[06/23/23 20:44:01]\u001b[0m\u001b[2;36m \u001b[0m\u001b[34mINFO    \u001b[0m Kedro project Project RDI Cape Town                                    \u001b]8;id=726421;file:///Users/ejwillemse/dev/projects/project-rdi-cape-town/.venv/lib/python3.10/site-packages/kedro/ipython/__init__.py\u001b\\\u001b[2m__init__.py\u001b[0m\u001b]8;;\u001b\\\u001b[2m:\u001b[0m\u001b]8;id=612290;file:///Users/ejwillemse/dev/projects/project-rdi-cape-town/.venv/lib/python3.10/site-packages/kedro/ipython/__init__.py#105\u001b\\\u001b[2m105\u001b[0m\u001b]8;;\u001b\\\n"
      ]
     },
     "metadata": {},
     "output_type": "display_data"
    },
    {
     "data": {
      "text/html": [
       "<pre style=\"white-space:pre;overflow-x:auto;line-height:normal;font-family:Menlo,'DejaVu Sans Mono',consolas,'Courier New',monospace\"><span style=\"color: #7fbfbf; text-decoration-color: #7fbfbf\">                    </span><span style=\"color: #000080; text-decoration-color: #000080\">INFO    </span> Defined global variable <span style=\"color: #008000; text-decoration-color: #008000\">'context'</span>, <span style=\"color: #008000; text-decoration-color: #008000\">'session'</span>, <span style=\"color: #008000; text-decoration-color: #008000\">'catalog'</span> and            <a href=\"file:///Users/ejwillemse/dev/projects/project-rdi-cape-town/.venv/lib/python3.10/site-packages/kedro/ipython/__init__.py\" target=\"_blank\"><span style=\"color: #7f7f7f; text-decoration-color: #7f7f7f\">__init__.py</span></a><span style=\"color: #7f7f7f; text-decoration-color: #7f7f7f\">:</span><a href=\"file:///Users/ejwillemse/dev/projects/project-rdi-cape-town/.venv/lib/python3.10/site-packages/kedro/ipython/__init__.py#106\" target=\"_blank\"><span style=\"color: #7f7f7f; text-decoration-color: #7f7f7f\">106</span></a>\n",
       "<span style=\"color: #7fbfbf; text-decoration-color: #7fbfbf\">                    </span>         <span style=\"color: #008000; text-decoration-color: #008000\">'pipelines'</span>                                                            <span style=\"color: #7f7f7f; text-decoration-color: #7f7f7f\">               </span>\n",
       "</pre>\n"
      ],
      "text/plain": [
       "\u001b[2;36m                   \u001b[0m\u001b[2;36m \u001b[0m\u001b[34mINFO    \u001b[0m Defined global variable \u001b[32m'context'\u001b[0m, \u001b[32m'session'\u001b[0m, \u001b[32m'catalog'\u001b[0m and            \u001b]8;id=585772;file:///Users/ejwillemse/dev/projects/project-rdi-cape-town/.venv/lib/python3.10/site-packages/kedro/ipython/__init__.py\u001b\\\u001b[2m__init__.py\u001b[0m\u001b]8;;\u001b\\\u001b[2m:\u001b[0m\u001b]8;id=353489;file:///Users/ejwillemse/dev/projects/project-rdi-cape-town/.venv/lib/python3.10/site-packages/kedro/ipython/__init__.py#106\u001b\\\u001b[2m106\u001b[0m\u001b]8;;\u001b\\\n",
       "\u001b[2;36m                    \u001b[0m         \u001b[32m'pipelines'\u001b[0m                                                            \u001b[2m               \u001b[0m\n"
      ]
     },
     "metadata": {},
     "output_type": "display_data"
    },
    {
     "name": "stdout",
     "output_type": "stream",
     "text": [
      "The autoreload extension is already loaded. To reload it, use:\n",
      "  %reload_ext autoreload\n"
     ]
    }
   ],
   "source": [
    "%load_ext kedro.ipython\n",
    "%reload_kedro\n",
    "%load_ext autoreload\n",
    "%autoreload 2\n",
    "%config IPCompleter.use_jedi=False\n",
    "\n",
    "catalog = context.catalog\n",
    "params = context.params\n",
    "credentials = context._get_config_credentials()"
   ]
  },
  {
   "cell_type": "code",
   "execution_count": 13,
   "metadata": {},
   "outputs": [],
   "source": [
    "import pyrosm\n",
    "from pprint import pprint\n",
    "from pyrosm import OSM\n",
    "from pyrosm import get_data\n",
    "from pyrosm.data import sources\n",
    "import shapely\n",
    "import pyrosm\n",
    "import os\n",
    "os.chdir(str(context.project_path))"
   ]
  },
  {
   "cell_type": "code",
   "execution_count": 14,
   "metadata": {},
   "outputs": [
    {
     "data": {
      "text/html": [
       "<pre style=\"white-space:pre;overflow-x:auto;line-height:normal;font-family:Menlo,'DejaVu Sans Mono',consolas,'Courier New',monospace\"><span style=\"color: #7fbfbf; text-decoration-color: #7fbfbf\">[06/23/23 20:44:10] </span><span style=\"color: #000080; text-decoration-color: #000080\">INFO    </span> Loading data from <span style=\"color: #008000; text-decoration-color: #008000\">'osm'</span> <span style=\"font-weight: bold\">(</span>PyrosmInstance<span style=\"font-weight: bold\">)</span><span style=\"color: #808000; text-decoration-color: #808000\">...</span>                        <a href=\"file:///Users/ejwillemse/dev/projects/project-rdi-cape-town/.venv/lib/python3.10/site-packages/kedro/io/data_catalog.py\" target=\"_blank\"><span style=\"color: #7f7f7f; text-decoration-color: #7f7f7f\">data_catalog.py</span></a><span style=\"color: #7f7f7f; text-decoration-color: #7f7f7f\">:</span><a href=\"file:///Users/ejwillemse/dev/projects/project-rdi-cape-town/.venv/lib/python3.10/site-packages/kedro/io/data_catalog.py#345\" target=\"_blank\"><span style=\"color: #7f7f7f; text-decoration-color: #7f7f7f\">345</span></a>\n",
       "</pre>\n"
      ],
      "text/plain": [
       "\u001b[2;36m[06/23/23 20:44:10]\u001b[0m\u001b[2;36m \u001b[0m\u001b[34mINFO    \u001b[0m Loading data from \u001b[32m'osm'\u001b[0m \u001b[1m(\u001b[0mPyrosmInstance\u001b[1m)\u001b[0m\u001b[33m...\u001b[0m                        \u001b]8;id=300737;file:///Users/ejwillemse/dev/projects/project-rdi-cape-town/.venv/lib/python3.10/site-packages/kedro/io/data_catalog.py\u001b\\\u001b[2mdata_catalog.py\u001b[0m\u001b]8;;\u001b\\\u001b[2m:\u001b[0m\u001b]8;id=990373;file:///Users/ejwillemse/dev/projects/project-rdi-cape-town/.venv/lib/python3.10/site-packages/kedro/io/data_catalog.py#345\u001b\\\u001b[2m345\u001b[0m\u001b]8;;\u001b\\\n"
      ]
     },
     "metadata": {},
     "output_type": "display_data"
    }
   ],
   "source": [
    "osm = catalog.load(\"osm\")"
   ]
  },
  {
   "cell_type": "code",
   "execution_count": 15,
   "metadata": {},
   "outputs": [
    {
     "data": {
      "text/html": [
       "<pre style=\"white-space:pre;overflow-x:auto;line-height:normal;font-family:Menlo,'DejaVu Sans Mono',consolas,'Courier New',monospace\"><span style=\"color: #7fbfbf; text-decoration-color: #7fbfbf\">[06/23/23 20:44:39] </span><span style=\"color: #800000; text-decoration-color: #800000\">WARNING </span> <span style=\"color: #800080; text-decoration-color: #800080\">/Users/ejwillemse/dev/projects/project-rdi-cape-town/.venv/lib/python3</span> <a href=\"file:///Users/ejwillemse/.pyenv/versions/3.10.8/lib/python3.10/warnings.py\" target=\"_blank\"><span style=\"color: #7f7f7f; text-decoration-color: #7f7f7f\">warnings.py</span></a><span style=\"color: #7f7f7f; text-decoration-color: #7f7f7f\">:</span><a href=\"file:///Users/ejwillemse/.pyenv/versions/3.10.8/lib/python3.10/warnings.py#109\" target=\"_blank\"><span style=\"color: #7f7f7f; text-decoration-color: #7f7f7f\">109</span></a>\n",
       "<span style=\"color: #7fbfbf; text-decoration-color: #7fbfbf\">                    </span>         <span style=\"color: #800080; text-decoration-color: #800080\">.10/site-packages/pyrosm/</span><span style=\"color: #ff00ff; text-decoration-color: #ff00ff\">buildings.py</span>:<span style=\"color: #008080; text-decoration-color: #008080; font-weight: bold\">47</span>: DeprecationWarning:          <span style=\"color: #7f7f7f; text-decoration-color: #7f7f7f\">               </span>\n",
       "<span style=\"color: #7fbfbf; text-decoration-color: #7fbfbf\">                    </span>         `np.float` is a deprecated alias for the builtin `float`. To silence   <span style=\"color: #7f7f7f; text-decoration-color: #7f7f7f\">               </span>\n",
       "<span style=\"color: #7fbfbf; text-decoration-color: #7fbfbf\">                    </span>         this warning, use `float` by itself. Doing this will not modify any    <span style=\"color: #7f7f7f; text-decoration-color: #7f7f7f\">               </span>\n",
       "<span style=\"color: #7fbfbf; text-decoration-color: #7fbfbf\">                    </span>         behavior and is safe. If you specifically wanted the numpy scalar      <span style=\"color: #7f7f7f; text-decoration-color: #7f7f7f\">               </span>\n",
       "<span style=\"color: #7fbfbf; text-decoration-color: #7fbfbf\">                    </span>         type, use `np.float64` here.                                           <span style=\"color: #7f7f7f; text-decoration-color: #7f7f7f\">               </span>\n",
       "<span style=\"color: #7fbfbf; text-decoration-color: #7fbfbf\">                    </span>         Deprecated in NumPy <span style=\"color: #008080; text-decoration-color: #008080; font-weight: bold\">1.20</span>; for more details and guidance:               <span style=\"color: #7f7f7f; text-decoration-color: #7f7f7f\">               </span>\n",
       "<span style=\"color: #7fbfbf; text-decoration-color: #7fbfbf\">                    </span>         <span style=\"color: #0000ff; text-decoration-color: #0000ff; text-decoration: underline\">https://numpy.org/devdocs/release/1.20.0-notes.html#deprecations</span>       <span style=\"color: #7f7f7f; text-decoration-color: #7f7f7f\">               </span>\n",
       "<span style=\"color: #7fbfbf; text-decoration-color: #7fbfbf\">                    </span>           gdf = <span style=\"color: #800080; text-decoration-color: #800080; font-weight: bold\">prepare_geodataframe</span><span style=\"font-weight: bold\">(</span>                                          <span style=\"color: #7f7f7f; text-decoration-color: #7f7f7f\">               </span>\n",
       "<span style=\"color: #7fbfbf; text-decoration-color: #7fbfbf\">                    </span>                                                                                <span style=\"color: #7f7f7f; text-decoration-color: #7f7f7f\">               </span>\n",
       "</pre>\n"
      ],
      "text/plain": [
       "\u001b[2;36m[06/23/23 20:44:39]\u001b[0m\u001b[2;36m \u001b[0m\u001b[31mWARNING \u001b[0m \u001b[35m/Users/ejwillemse/dev/projects/project-rdi-cape-town/.venv/lib/python3\u001b[0m \u001b]8;id=399875;file:///Users/ejwillemse/.pyenv/versions/3.10.8/lib/python3.10/warnings.py\u001b\\\u001b[2mwarnings.py\u001b[0m\u001b]8;;\u001b\\\u001b[2m:\u001b[0m\u001b]8;id=217020;file:///Users/ejwillemse/.pyenv/versions/3.10.8/lib/python3.10/warnings.py#109\u001b\\\u001b[2m109\u001b[0m\u001b]8;;\u001b\\\n",
       "\u001b[2;36m                    \u001b[0m         \u001b[35m.10/site-packages/pyrosm/\u001b[0m\u001b[95mbuildings.py\u001b[0m:\u001b[1;36m47\u001b[0m: DeprecationWarning:          \u001b[2m               \u001b[0m\n",
       "\u001b[2;36m                    \u001b[0m         `np.float` is a deprecated alias for the builtin `float`. To silence   \u001b[2m               \u001b[0m\n",
       "\u001b[2;36m                    \u001b[0m         this warning, use `float` by itself. Doing this will not modify any    \u001b[2m               \u001b[0m\n",
       "\u001b[2;36m                    \u001b[0m         behavior and is safe. If you specifically wanted the numpy scalar      \u001b[2m               \u001b[0m\n",
       "\u001b[2;36m                    \u001b[0m         type, use `np.float64` here.                                           \u001b[2m               \u001b[0m\n",
       "\u001b[2;36m                    \u001b[0m         Deprecated in NumPy \u001b[1;36m1.20\u001b[0m; for more details and guidance:               \u001b[2m               \u001b[0m\n",
       "\u001b[2;36m                    \u001b[0m         \u001b[4;94mhttps://numpy.org/devdocs/release/1.20.0-notes.html#deprecations\u001b[0m       \u001b[2m               \u001b[0m\n",
       "\u001b[2;36m                    \u001b[0m           gdf = \u001b[1;35mprepare_geodataframe\u001b[0m\u001b[1m(\u001b[0m                                          \u001b[2m               \u001b[0m\n",
       "\u001b[2;36m                    \u001b[0m                                                                                \u001b[2m               \u001b[0m\n"
      ]
     },
     "metadata": {},
     "output_type": "display_data"
    },
    {
     "data": {
      "text/html": [
       "<pre style=\"white-space:pre;overflow-x:auto;line-height:normal;font-family:Menlo,'DejaVu Sans Mono',consolas,'Courier New',monospace\"><span style=\"color: #7fbfbf; text-decoration-color: #7fbfbf\">[06/23/23 20:44:41] </span><span style=\"color: #800000; text-decoration-color: #800000\">WARNING </span> <span style=\"color: #800080; text-decoration-color: #800080\">/Users/ejwillemse/dev/projects/project-rdi-cape-town/.venv/lib/python3</span> <a href=\"file:///Users/ejwillemse/.pyenv/versions/3.10.8/lib/python3.10/warnings.py\" target=\"_blank\"><span style=\"color: #7f7f7f; text-decoration-color: #7f7f7f\">warnings.py</span></a><span style=\"color: #7f7f7f; text-decoration-color: #7f7f7f\">:</span><a href=\"file:///Users/ejwillemse/.pyenv/versions/3.10.8/lib/python3.10/warnings.py#109\" target=\"_blank\"><span style=\"color: #7f7f7f; text-decoration-color: #7f7f7f\">109</span></a>\n",
       "<span style=\"color: #7fbfbf; text-decoration-color: #7fbfbf\">                    </span>         <span style=\"color: #800080; text-decoration-color: #800080\">.10/site-packages/geopandas/</span><span style=\"color: #ff00ff; text-decoration-color: #ff00ff\">array.py</span>:<span style=\"color: #008080; text-decoration-color: #008080; font-weight: bold\">1486</span>: UserWarning: CRS not set    <span style=\"color: #7f7f7f; text-decoration-color: #7f7f7f\">               </span>\n",
       "<span style=\"color: #7fbfbf; text-decoration-color: #7fbfbf\">                    </span>         for some of the concatenation inputs. Setting output's CRS as WGS <span style=\"color: #008080; text-decoration-color: #008080; font-weight: bold\">84</span>   <span style=\"color: #7f7f7f; text-decoration-color: #7f7f7f\">               </span>\n",
       "<span style=\"color: #7fbfbf; text-decoration-color: #7fbfbf\">                    </span>         <span style=\"font-weight: bold\">(</span>the single non-null crs provided<span style=\"font-weight: bold\">)</span>.                                    <span style=\"color: #7f7f7f; text-decoration-color: #7f7f7f\">               </span>\n",
       "<span style=\"color: #7fbfbf; text-decoration-color: #7fbfbf\">                    </span>           <span style=\"color: #800080; text-decoration-color: #800080; font-weight: bold\">warnings.warn</span><span style=\"font-weight: bold\">(</span>                                                       <span style=\"color: #7f7f7f; text-decoration-color: #7f7f7f\">               </span>\n",
       "<span style=\"color: #7fbfbf; text-decoration-color: #7fbfbf\">                    </span>                                                                                <span style=\"color: #7f7f7f; text-decoration-color: #7f7f7f\">               </span>\n",
       "</pre>\n"
      ],
      "text/plain": [
       "\u001b[2;36m[06/23/23 20:44:41]\u001b[0m\u001b[2;36m \u001b[0m\u001b[31mWARNING \u001b[0m \u001b[35m/Users/ejwillemse/dev/projects/project-rdi-cape-town/.venv/lib/python3\u001b[0m \u001b]8;id=837517;file:///Users/ejwillemse/.pyenv/versions/3.10.8/lib/python3.10/warnings.py\u001b\\\u001b[2mwarnings.py\u001b[0m\u001b]8;;\u001b\\\u001b[2m:\u001b[0m\u001b]8;id=704351;file:///Users/ejwillemse/.pyenv/versions/3.10.8/lib/python3.10/warnings.py#109\u001b\\\u001b[2m109\u001b[0m\u001b]8;;\u001b\\\n",
       "\u001b[2;36m                    \u001b[0m         \u001b[35m.10/site-packages/geopandas/\u001b[0m\u001b[95marray.py\u001b[0m:\u001b[1;36m1486\u001b[0m: UserWarning: CRS not set    \u001b[2m               \u001b[0m\n",
       "\u001b[2;36m                    \u001b[0m         for some of the concatenation inputs. Setting output's CRS as WGS \u001b[1;36m84\u001b[0m   \u001b[2m               \u001b[0m\n",
       "\u001b[2;36m                    \u001b[0m         \u001b[1m(\u001b[0mthe single non-null crs provided\u001b[1m)\u001b[0m.                                    \u001b[2m               \u001b[0m\n",
       "\u001b[2;36m                    \u001b[0m           \u001b[1;35mwarnings.warn\u001b[0m\u001b[1m(\u001b[0m                                                       \u001b[2m               \u001b[0m\n",
       "\u001b[2;36m                    \u001b[0m                                                                                \u001b[2m               \u001b[0m\n"
      ]
     },
     "metadata": {},
     "output_type": "display_data"
    },
    {
     "name": "stdout",
     "output_type": "stream",
     "text": [
      "CPU times: user 20.4 s, sys: 1.7 s, total: 22.1 s\n",
      "Wall time: 23.3 s\n"
     ]
    }
   ],
   "source": [
    "%%time\n",
    "buildings = osm.get_buildings()\n"
   ]
  },
  {
   "cell_type": "code",
   "execution_count": 27,
   "metadata": {},
   "outputs": [
    {
     "data": {
      "text/html": [
       "<pre style=\"white-space:pre;overflow-x:auto;line-height:normal;font-family:Menlo,'DejaVu Sans Mono',consolas,'Courier New',monospace\"><span style=\"color: #7fbfbf; text-decoration-color: #7fbfbf\">[06/23/23 20:51:13] </span><span style=\"color: #000080; text-decoration-color: #000080\">INFO    </span> Resolved project path as:                                              <a href=\"file:///Users/ejwillemse/dev/projects/project-rdi-cape-town/.venv/lib/python3.10/site-packages/kedro/ipython/__init__.py\" target=\"_blank\"><span style=\"color: #7f7f7f; text-decoration-color: #7f7f7f\">__init__.py</span></a><span style=\"color: #7f7f7f; text-decoration-color: #7f7f7f\">:</span><a href=\"file:///Users/ejwillemse/dev/projects/project-rdi-cape-town/.venv/lib/python3.10/site-packages/kedro/ipython/__init__.py#136\" target=\"_blank\"><span style=\"color: #7f7f7f; text-decoration-color: #7f7f7f\">136</span></a>\n",
       "<span style=\"color: #7fbfbf; text-decoration-color: #7fbfbf\">                    </span>         <span style=\"color: #800080; text-decoration-color: #800080\">/Users/ejwillemse/dev/projects/</span><span style=\"color: #ff00ff; text-decoration-color: #ff00ff\">project-rdi-cape-town.</span>                  <span style=\"color: #7f7f7f; text-decoration-color: #7f7f7f\">               </span>\n",
       "<span style=\"color: #7fbfbf; text-decoration-color: #7fbfbf\">                    </span>         To set a different path, run <span style=\"color: #008000; text-decoration-color: #008000\">'%reload_kedro &lt;project_root&gt;'</span>            <span style=\"color: #7f7f7f; text-decoration-color: #7f7f7f\">               </span>\n",
       "</pre>\n"
      ],
      "text/plain": [
       "\u001b[2;36m[06/23/23 20:51:13]\u001b[0m\u001b[2;36m \u001b[0m\u001b[34mINFO    \u001b[0m Resolved project path as:                                              \u001b]8;id=762131;file:///Users/ejwillemse/dev/projects/project-rdi-cape-town/.venv/lib/python3.10/site-packages/kedro/ipython/__init__.py\u001b\\\u001b[2m__init__.py\u001b[0m\u001b]8;;\u001b\\\u001b[2m:\u001b[0m\u001b]8;id=851208;file:///Users/ejwillemse/dev/projects/project-rdi-cape-town/.venv/lib/python3.10/site-packages/kedro/ipython/__init__.py#136\u001b\\\u001b[2m136\u001b[0m\u001b]8;;\u001b\\\n",
       "\u001b[2;36m                    \u001b[0m         \u001b[35m/Users/ejwillemse/dev/projects/\u001b[0m\u001b[95mproject-rdi-cape-town.\u001b[0m                  \u001b[2m               \u001b[0m\n",
       "\u001b[2;36m                    \u001b[0m         To set a different path, run \u001b[32m'%reload_kedro \u001b[0m\u001b[32m<\u001b[0m\u001b[32mproject_root\u001b[0m\u001b[32m>\u001b[0m\u001b[32m'\u001b[0m            \u001b[2m               \u001b[0m\n"
      ]
     },
     "metadata": {},
     "output_type": "display_data"
    },
    {
     "data": {
      "text/html": [
       "<pre style=\"white-space:pre;overflow-x:auto;line-height:normal;font-family:Menlo,'DejaVu Sans Mono',consolas,'Courier New',monospace\"><span style=\"color: #7fbfbf; text-decoration-color: #7fbfbf\">[06/23/23 20:51:14] </span><span style=\"color: #000080; text-decoration-color: #000080\">INFO    </span> Kedro project Project RDI Cape Town                                    <a href=\"file:///Users/ejwillemse/dev/projects/project-rdi-cape-town/.venv/lib/python3.10/site-packages/kedro/ipython/__init__.py\" target=\"_blank\"><span style=\"color: #7f7f7f; text-decoration-color: #7f7f7f\">__init__.py</span></a><span style=\"color: #7f7f7f; text-decoration-color: #7f7f7f\">:</span><a href=\"file:///Users/ejwillemse/dev/projects/project-rdi-cape-town/.venv/lib/python3.10/site-packages/kedro/ipython/__init__.py#105\" target=\"_blank\"><span style=\"color: #7f7f7f; text-decoration-color: #7f7f7f\">105</span></a>\n",
       "</pre>\n"
      ],
      "text/plain": [
       "\u001b[2;36m[06/23/23 20:51:14]\u001b[0m\u001b[2;36m \u001b[0m\u001b[34mINFO    \u001b[0m Kedro project Project RDI Cape Town                                    \u001b]8;id=758180;file:///Users/ejwillemse/dev/projects/project-rdi-cape-town/.venv/lib/python3.10/site-packages/kedro/ipython/__init__.py\u001b\\\u001b[2m__init__.py\u001b[0m\u001b]8;;\u001b\\\u001b[2m:\u001b[0m\u001b]8;id=976899;file:///Users/ejwillemse/dev/projects/project-rdi-cape-town/.venv/lib/python3.10/site-packages/kedro/ipython/__init__.py#105\u001b\\\u001b[2m105\u001b[0m\u001b]8;;\u001b\\\n"
      ]
     },
     "metadata": {},
     "output_type": "display_data"
    },
    {
     "data": {
      "text/html": [
       "<pre style=\"white-space:pre;overflow-x:auto;line-height:normal;font-family:Menlo,'DejaVu Sans Mono',consolas,'Courier New',monospace\"><span style=\"color: #7fbfbf; text-decoration-color: #7fbfbf\">                    </span><span style=\"color: #000080; text-decoration-color: #000080\">INFO    </span> Defined global variable <span style=\"color: #008000; text-decoration-color: #008000\">'context'</span>, <span style=\"color: #008000; text-decoration-color: #008000\">'session'</span>, <span style=\"color: #008000; text-decoration-color: #008000\">'catalog'</span> and            <a href=\"file:///Users/ejwillemse/dev/projects/project-rdi-cape-town/.venv/lib/python3.10/site-packages/kedro/ipython/__init__.py\" target=\"_blank\"><span style=\"color: #7f7f7f; text-decoration-color: #7f7f7f\">__init__.py</span></a><span style=\"color: #7f7f7f; text-decoration-color: #7f7f7f\">:</span><a href=\"file:///Users/ejwillemse/dev/projects/project-rdi-cape-town/.venv/lib/python3.10/site-packages/kedro/ipython/__init__.py#106\" target=\"_blank\"><span style=\"color: #7f7f7f; text-decoration-color: #7f7f7f\">106</span></a>\n",
       "<span style=\"color: #7fbfbf; text-decoration-color: #7fbfbf\">                    </span>         <span style=\"color: #008000; text-decoration-color: #008000\">'pipelines'</span>                                                            <span style=\"color: #7f7f7f; text-decoration-color: #7f7f7f\">               </span>\n",
       "</pre>\n"
      ],
      "text/plain": [
       "\u001b[2;36m                   \u001b[0m\u001b[2;36m \u001b[0m\u001b[34mINFO    \u001b[0m Defined global variable \u001b[32m'context'\u001b[0m, \u001b[32m'session'\u001b[0m, \u001b[32m'catalog'\u001b[0m and            \u001b]8;id=629901;file:///Users/ejwillemse/dev/projects/project-rdi-cape-town/.venv/lib/python3.10/site-packages/kedro/ipython/__init__.py\u001b\\\u001b[2m__init__.py\u001b[0m\u001b]8;;\u001b\\\u001b[2m:\u001b[0m\u001b]8;id=561698;file:///Users/ejwillemse/dev/projects/project-rdi-cape-town/.venv/lib/python3.10/site-packages/kedro/ipython/__init__.py#106\u001b\\\u001b[2m106\u001b[0m\u001b]8;;\u001b\\\n",
       "\u001b[2;36m                    \u001b[0m         \u001b[32m'pipelines'\u001b[0m                                                            \u001b[2m               \u001b[0m\n"
      ]
     },
     "metadata": {},
     "output_type": "display_data"
    },
    {
     "data": {
      "text/html": [
       "<pre style=\"white-space:pre;overflow-x:auto;line-height:normal;font-family:Menlo,'DejaVu Sans Mono',consolas,'Courier New',monospace\"><span style=\"color: #7fbfbf; text-decoration-color: #7fbfbf\">                    </span><span style=\"color: #000080; text-decoration-color: #000080\">INFO    </span> Loading data from <span style=\"color: #008000; text-decoration-color: #008000\">'syn_pop_scenarios'</span> <span style=\"font-weight: bold\">(</span>PartitionedDataSet<span style=\"font-weight: bold\">)</span><span style=\"color: #808000; text-decoration-color: #808000\">...</span>      <a href=\"file:///Users/ejwillemse/dev/projects/project-rdi-cape-town/.venv/lib/python3.10/site-packages/kedro/io/data_catalog.py\" target=\"_blank\"><span style=\"color: #7f7f7f; text-decoration-color: #7f7f7f\">data_catalog.py</span></a><span style=\"color: #7f7f7f; text-decoration-color: #7f7f7f\">:</span><a href=\"file:///Users/ejwillemse/dev/projects/project-rdi-cape-town/.venv/lib/python3.10/site-packages/kedro/io/data_catalog.py#345\" target=\"_blank\"><span style=\"color: #7f7f7f; text-decoration-color: #7f7f7f\">345</span></a>\n",
       "</pre>\n"
      ],
      "text/plain": [
       "\u001b[2;36m                   \u001b[0m\u001b[2;36m \u001b[0m\u001b[34mINFO    \u001b[0m Loading data from \u001b[32m'syn_pop_scenarios'\u001b[0m \u001b[1m(\u001b[0mPartitionedDataSet\u001b[1m)\u001b[0m\u001b[33m...\u001b[0m      \u001b]8;id=377525;file:///Users/ejwillemse/dev/projects/project-rdi-cape-town/.venv/lib/python3.10/site-packages/kedro/io/data_catalog.py\u001b\\\u001b[2mdata_catalog.py\u001b[0m\u001b]8;;\u001b\\\u001b[2m:\u001b[0m\u001b]8;id=392135;file:///Users/ejwillemse/dev/projects/project-rdi-cape-town/.venv/lib/python3.10/site-packages/kedro/io/data_catalog.py#345\u001b\\\u001b[2m345\u001b[0m\u001b]8;;\u001b\\\n"
      ]
     },
     "metadata": {},
     "output_type": "display_data"
    }
   ],
   "source": [
    "%reload_kedro\n",
    "syn_pop_scenarios = catalog.load(\"syn_pop_scenarios\")\n",
    "syn_pop = syn_pop_scenarios[list(syn_pop_scenarios.keys())[0]]()\n",
    "\n",
    "osm.bounding_box"
   ]
  },
  {
   "cell_type": "code",
   "execution_count": 28,
   "metadata": {},
   "outputs": [
    {
     "data": {
      "text/html": [
       "<div>\n",
       "<style scoped>\n",
       "    .dataframe tbody tr th:only-of-type {\n",
       "        vertical-align: middle;\n",
       "    }\n",
       "\n",
       "    .dataframe tbody tr th {\n",
       "        vertical-align: top;\n",
       "    }\n",
       "\n",
       "    .dataframe thead th {\n",
       "        text-align: right;\n",
       "    }\n",
       "</style>\n",
       "<table border=\"1\" class=\"dataframe\">\n",
       "  <thead>\n",
       "    <tr style=\"text-align: right;\">\n",
       "      <th></th>\n",
       "      <th>id</th>\n",
       "      <th>income</th>\n",
       "      <th>carAccess</th>\n",
       "      <th>dwellingTenure</th>\n",
       "      <th>housingType</th>\n",
       "      <th>mainDwellingType</th>\n",
       "      <th>numberOfDwellingRooms</th>\n",
       "      <th>pipedWater</th>\n",
       "      <th>toilet</th>\n",
       "      <th>parcelLon</th>\n",
       "      <th>parcelLat</th>\n",
       "      <th>parcelX</th>\n",
       "      <th>parcelY</th>\n",
       "      <th>homeToParcelDistance</th>\n",
       "    </tr>\n",
       "  </thead>\n",
       "  <tbody>\n",
       "    <tr>\n",
       "      <th>0</th>\n",
       "      <td>609273</td>\n",
       "      <td>1.927584e+06</td>\n",
       "      <td>Yes</td>\n",
       "      <td>Rented</td>\n",
       "      <td>House</td>\n",
       "      <td>FormalHouse</td>\n",
       "      <td>7</td>\n",
       "      <td>Piped_dwelling</td>\n",
       "      <td>Flush_sewerage</td>\n",
       "      <td>18.475017</td>\n",
       "      <td>-33.988069</td>\n",
       "      <td>-48507</td>\n",
       "      <td>-3762462</td>\n",
       "      <td>3881</td>\n",
       "    </tr>\n",
       "    <tr>\n",
       "      <th>1</th>\n",
       "      <td>609316</td>\n",
       "      <td>3.011850e+04</td>\n",
       "      <td>No</td>\n",
       "      <td>OwnedPaidOff</td>\n",
       "      <td>House</td>\n",
       "      <td>FormalHouse</td>\n",
       "      <td>4</td>\n",
       "      <td>Piped_dwelling</td>\n",
       "      <td>Flush_sewerage</td>\n",
       "      <td>18.462491</td>\n",
       "      <td>-33.981217</td>\n",
       "      <td>-49669</td>\n",
       "      <td>-3761708</td>\n",
       "      <td>4000</td>\n",
       "    </tr>\n",
       "    <tr>\n",
       "      <th>2</th>\n",
       "      <td>609322</td>\n",
       "      <td>9.637921e+05</td>\n",
       "      <td>Yes</td>\n",
       "      <td>OwnedPaidOff</td>\n",
       "      <td>House</td>\n",
       "      <td>SemiDetachedHouse</td>\n",
       "      <td>4</td>\n",
       "      <td>Piped_dwelling</td>\n",
       "      <td>Flush_sewerage</td>\n",
       "      <td>18.479705</td>\n",
       "      <td>-33.984255</td>\n",
       "      <td>-48076</td>\n",
       "      <td>-3762037</td>\n",
       "      <td>3106</td>\n",
       "    </tr>\n",
       "    <tr>\n",
       "      <th>3</th>\n",
       "      <td>609327</td>\n",
       "      <td>2.409480e+05</td>\n",
       "      <td>No</td>\n",
       "      <td>OwnedPaying</td>\n",
       "      <td>House</td>\n",
       "      <td>FormalHouse</td>\n",
       "      <td>1</td>\n",
       "      <td>Piped_dwelling</td>\n",
       "      <td>Flush_sewerage</td>\n",
       "      <td>18.462500</td>\n",
       "      <td>-33.986328</td>\n",
       "      <td>-49665</td>\n",
       "      <td>-3762275</td>\n",
       "      <td>4220</td>\n",
       "    </tr>\n",
       "    <tr>\n",
       "      <th>4</th>\n",
       "      <td>609371</td>\n",
       "      <td>4.818960e+05</td>\n",
       "      <td>Yes</td>\n",
       "      <td>OwnedPaying</td>\n",
       "      <td>House</td>\n",
       "      <td>FormalHouse</td>\n",
       "      <td>2</td>\n",
       "      <td>Piped_dwelling</td>\n",
       "      <td>Flush_sewerage</td>\n",
       "      <td>18.475533</td>\n",
       "      <td>-33.985806</td>\n",
       "      <td>-48461</td>\n",
       "      <td>-3762211</td>\n",
       "      <td>3595</td>\n",
       "    </tr>\n",
       "    <tr>\n",
       "      <th>...</th>\n",
       "      <td>...</td>\n",
       "      <td>...</td>\n",
       "      <td>...</td>\n",
       "      <td>...</td>\n",
       "      <td>...</td>\n",
       "      <td>...</td>\n",
       "      <td>...</td>\n",
       "      <td>...</td>\n",
       "      <td>...</td>\n",
       "      <td>...</td>\n",
       "      <td>...</td>\n",
       "      <td>...</td>\n",
       "      <td>...</td>\n",
       "      <td>...</td>\n",
       "    </tr>\n",
       "    <tr>\n",
       "      <th>38598</th>\n",
       "      <td>1229025</td>\n",
       "      <td>9.637921e+05</td>\n",
       "      <td>Yes</td>\n",
       "      <td>OwnedPaidOff</td>\n",
       "      <td>House</td>\n",
       "      <td>FormalHouse</td>\n",
       "      <td>6</td>\n",
       "      <td>Piped_dwelling</td>\n",
       "      <td>Flush_sewerage</td>\n",
       "      <td>18.478323</td>\n",
       "      <td>-33.983646</td>\n",
       "      <td>-48204</td>\n",
       "      <td>-3761970</td>\n",
       "      <td>4915</td>\n",
       "    </tr>\n",
       "    <tr>\n",
       "      <th>38599</th>\n",
       "      <td>1229028</td>\n",
       "      <td>1.204740e+05</td>\n",
       "      <td>No</td>\n",
       "      <td>Rented</td>\n",
       "      <td>House</td>\n",
       "      <td>Apartment</td>\n",
       "      <td>3</td>\n",
       "      <td>Piped_dwelling</td>\n",
       "      <td>Flush_sewerage</td>\n",
       "      <td>18.481612</td>\n",
       "      <td>-33.987645</td>\n",
       "      <td>-47898</td>\n",
       "      <td>-3762412</td>\n",
       "      <td>4582</td>\n",
       "    </tr>\n",
       "    <tr>\n",
       "      <th>38600</th>\n",
       "      <td>1229073</td>\n",
       "      <td>4.818960e+05</td>\n",
       "      <td>Yes</td>\n",
       "      <td>OwnedPaidOff</td>\n",
       "      <td>House</td>\n",
       "      <td>Apartment</td>\n",
       "      <td>4</td>\n",
       "      <td>Piped_dwelling</td>\n",
       "      <td>Flush_sewerage</td>\n",
       "      <td>18.480235</td>\n",
       "      <td>-33.985628</td>\n",
       "      <td>-48027</td>\n",
       "      <td>-3762189</td>\n",
       "      <td>5404</td>\n",
       "    </tr>\n",
       "    <tr>\n",
       "      <th>38601</th>\n",
       "      <td>1229245</td>\n",
       "      <td>3.855168e+06</td>\n",
       "      <td>Yes</td>\n",
       "      <td>OwnedPaidOff</td>\n",
       "      <td>House</td>\n",
       "      <td>FormalHouse</td>\n",
       "      <td>8</td>\n",
       "      <td>Piped_dwelling</td>\n",
       "      <td>Flush_sewerage</td>\n",
       "      <td>18.480124</td>\n",
       "      <td>-34.020240</td>\n",
       "      <td>-48017</td>\n",
       "      <td>-3766028</td>\n",
       "      <td>2453</td>\n",
       "    </tr>\n",
       "    <tr>\n",
       "      <th>38602</th>\n",
       "      <td>1230436</td>\n",
       "      <td>9.637921e+05</td>\n",
       "      <td>Yes</td>\n",
       "      <td>OwnedPaidOff</td>\n",
       "      <td>House</td>\n",
       "      <td>FormalHouse</td>\n",
       "      <td>4</td>\n",
       "      <td>Piped_yard</td>\n",
       "      <td>Flush_sewerage</td>\n",
       "      <td>18.466268</td>\n",
       "      <td>-33.997217</td>\n",
       "      <td>-49311</td>\n",
       "      <td>-3763481</td>\n",
       "      <td>3528</td>\n",
       "    </tr>\n",
       "  </tbody>\n",
       "</table>\n",
       "<p>38603 rows × 14 columns</p>\n",
       "</div>"
      ],
      "text/plain": [
       "            id        income carAccess dwellingTenure housingType  \\\n",
       "0       609273  1.927584e+06       Yes         Rented       House   \n",
       "1       609316  3.011850e+04        No   OwnedPaidOff       House   \n",
       "2       609322  9.637921e+05       Yes   OwnedPaidOff       House   \n",
       "3       609327  2.409480e+05        No    OwnedPaying       House   \n",
       "4       609371  4.818960e+05       Yes    OwnedPaying       House   \n",
       "...        ...           ...       ...            ...         ...   \n",
       "38598  1229025  9.637921e+05       Yes   OwnedPaidOff       House   \n",
       "38599  1229028  1.204740e+05        No         Rented       House   \n",
       "38600  1229073  4.818960e+05       Yes   OwnedPaidOff       House   \n",
       "38601  1229245  3.855168e+06       Yes   OwnedPaidOff       House   \n",
       "38602  1230436  9.637921e+05       Yes   OwnedPaidOff       House   \n",
       "\n",
       "        mainDwellingType  numberOfDwellingRooms      pipedWater  \\\n",
       "0            FormalHouse                      7  Piped_dwelling   \n",
       "1            FormalHouse                      4  Piped_dwelling   \n",
       "2      SemiDetachedHouse                      4  Piped_dwelling   \n",
       "3            FormalHouse                      1  Piped_dwelling   \n",
       "4            FormalHouse                      2  Piped_dwelling   \n",
       "...                  ...                    ...             ...   \n",
       "38598        FormalHouse                      6  Piped_dwelling   \n",
       "38599          Apartment                      3  Piped_dwelling   \n",
       "38600          Apartment                      4  Piped_dwelling   \n",
       "38601        FormalHouse                      8  Piped_dwelling   \n",
       "38602        FormalHouse                      4      Piped_yard   \n",
       "\n",
       "               toilet  parcelLon  parcelLat  parcelX  parcelY  \\\n",
       "0      Flush_sewerage  18.475017 -33.988069   -48507 -3762462   \n",
       "1      Flush_sewerage  18.462491 -33.981217   -49669 -3761708   \n",
       "2      Flush_sewerage  18.479705 -33.984255   -48076 -3762037   \n",
       "3      Flush_sewerage  18.462500 -33.986328   -49665 -3762275   \n",
       "4      Flush_sewerage  18.475533 -33.985806   -48461 -3762211   \n",
       "...               ...        ...        ...      ...      ...   \n",
       "38598  Flush_sewerage  18.478323 -33.983646   -48204 -3761970   \n",
       "38599  Flush_sewerage  18.481612 -33.987645   -47898 -3762412   \n",
       "38600  Flush_sewerage  18.480235 -33.985628   -48027 -3762189   \n",
       "38601  Flush_sewerage  18.480124 -34.020240   -48017 -3766028   \n",
       "38602  Flush_sewerage  18.466268 -33.997217   -49311 -3763481   \n",
       "\n",
       "       homeToParcelDistance  \n",
       "0                      3881  \n",
       "1                      4000  \n",
       "2                      3106  \n",
       "3                      4220  \n",
       "4                      3595  \n",
       "...                     ...  \n",
       "38598                  4915  \n",
       "38599                  4582  \n",
       "38600                  5404  \n",
       "38601                  2453  \n",
       "38602                  3528  \n",
       "\n",
       "[38603 rows x 14 columns]"
      ]
     },
     "execution_count": 28,
     "metadata": {},
     "output_type": "execute_result"
    }
   ],
   "source": [
    "syn_pop"
   ]
  },
  {
   "cell_type": "code",
   "execution_count": 29,
   "metadata": {},
   "outputs": [
    {
     "name": "stderr",
     "output_type": "stream",
     "text": [
      "[autoreload of ipywidgets.widgets.widget failed: Traceback (most recent call last):\n",
      "  File \"/Users/ejwillemse/dev/projects/project-rdi-cape-town/.venv/lib/python3.10/site-packages/IPython/extensions/autoreload.py\", line 276, in check\n",
      "    superreload(m, reload, self.old_objects)\n",
      "  File \"/Users/ejwillemse/dev/projects/project-rdi-cape-town/.venv/lib/python3.10/site-packages/IPython/extensions/autoreload.py\", line 500, in superreload\n",
      "    update_generic(old_obj, new_obj)\n",
      "  File \"/Users/ejwillemse/dev/projects/project-rdi-cape-town/.venv/lib/python3.10/site-packages/IPython/extensions/autoreload.py\", line 397, in update_generic\n",
      "    update(a, b)\n",
      "  File \"/Users/ejwillemse/dev/projects/project-rdi-cape-town/.venv/lib/python3.10/site-packages/IPython/extensions/autoreload.py\", line 330, in update_class\n",
      "    old_obj = getattr(old, key)\n",
      "  File \"/Users/ejwillemse/dev/projects/project-rdi-cape-town/.venv/lib/python3.10/site-packages/ipywidgets/widgets/widget.py\", line 295, in __get__\n",
      "    w['_view_module'].default_value,\n",
      "  File \"/Users/ejwillemse/dev/projects/project-rdi-cape-town/.venv/lib/python3.10/site-packages/ipywidgets/widgets/widget.py\", line 311, in widgets\n",
      "    #-------------------------------------------------------------------------\n",
      "NameError: name '_get_frame' is not defined\n",
      "]\n",
      "[autoreload of ipywidgets.widgets.interaction failed: Traceback (most recent call last):\n",
      "  File \"/Users/ejwillemse/dev/projects/project-rdi-cape-town/.venv/lib/python3.10/site-packages/IPython/extensions/autoreload.py\", line 276, in check\n",
      "    superreload(m, reload, self.old_objects)\n",
      "  File \"/Users/ejwillemse/dev/projects/project-rdi-cape-town/.venv/lib/python3.10/site-packages/IPython/extensions/autoreload.py\", line 475, in superreload\n",
      "    module = reload(module)\n",
      "  File \"/Users/ejwillemse/.pyenv/versions/3.10.8/lib/python3.10/importlib/__init__.py\", line 169, in reload\n",
      "    _bootstrap._exec(spec, module)\n",
      "  File \"<frozen importlib._bootstrap>\", line 619, in _exec\n",
      "  File \"<frozen importlib._bootstrap_external>\", line 883, in exec_module\n",
      "  File \"<frozen importlib._bootstrap>\", line 241, in _call_with_frames_removed\n",
      "  File \"/Users/ejwillemse/dev/projects/project-rdi-cape-town/.venv/lib/python3.10/site-packages/ipywidgets/widgets/interaction.py\", line 156, in <module>\n",
      "    class interactive(VBox):\n",
      "  File \"/Users/ejwillemse/dev/projects/project-rdi-cape-town/.venv/lib/python3.10/site-packages/traitlets/traitlets.py\", line 975, in __init__\n",
      "    cls.setup_class(classdict)\n",
      "  File \"/Users/ejwillemse/dev/projects/project-rdi-cape-town/.venv/lib/python3.10/site-packages/traitlets/traitlets.py\", line 1007, in setup_class\n",
      "    super().setup_class(classdict)\n",
      "  File \"/Users/ejwillemse/dev/projects/project-rdi-cape-town/.venv/lib/python3.10/site-packages/traitlets/traitlets.py\", line 990, in setup_class\n",
      "    for _, v in getmembers(cls):\n",
      "NameError: name '_get_frame' is not defined\n",
      "]\n"
     ]
    },
    {
     "data": {
      "text/html": [
       "<pre style=\"white-space:pre;overflow-x:auto;line-height:normal;font-family:Menlo,'DejaVu Sans Mono',consolas,'Courier New',monospace\"><span style=\"color: #800000; text-decoration-color: #800000\">╭─────────────────────────────── </span><span style=\"color: #800000; text-decoration-color: #800000; font-weight: bold\">Traceback </span><span style=\"color: #bf7f7f; text-decoration-color: #bf7f7f; font-weight: bold\">(most recent call last)</span><span style=\"color: #800000; text-decoration-color: #800000\"> ────────────────────────────────╮</span>\n",
       "<span style=\"color: #800000; text-decoration-color: #800000\">│</span> in <span style=\"color: #00ff00; text-decoration-color: #00ff00\">&lt;module&gt;</span>:<span style=\"color: #0000ff; text-decoration-color: #0000ff\">1</span>                                                                                    <span style=\"color: #800000; text-decoration-color: #800000\">│</span>\n",
       "<span style=\"color: #800000; text-decoration-color: #800000\">│</span>                                                                                                  <span style=\"color: #800000; text-decoration-color: #800000\">│</span>\n",
       "<span style=\"color: #800000; text-decoration-color: #800000\">│</span> <span style=\"color: #800000; text-decoration-color: #800000\">❱ </span>1 <span style=\"color: #0000ff; text-decoration-color: #0000ff\">from</span> <span style=\"color: #00ffff; text-decoration-color: #00ffff; text-decoration: underline\">keplergl</span> <span style=\"color: #0000ff; text-decoration-color: #0000ff\">import</span> KeplerGl                                                                <span style=\"color: #800000; text-decoration-color: #800000\">│</span>\n",
       "<span style=\"color: #800000; text-decoration-color: #800000\">│</span>   <span style=\"color: #7f7f7f; text-decoration-color: #7f7f7f\">2 </span>map_1 = KeplerGl(height=<span style=\"color: #0000ff; text-decoration-color: #0000ff\">1000</span>, data={<span style=\"color: #808000; text-decoration-color: #808000\">\"pop\"</span>: syn_pop})                                         <span style=\"color: #800000; text-decoration-color: #800000\">│</span>\n",
       "<span style=\"color: #800000; text-decoration-color: #800000\">│</span>   <span style=\"color: #7f7f7f; text-decoration-color: #7f7f7f\">3 </span>                                                                                             <span style=\"color: #800000; text-decoration-color: #800000\">│</span>\n",
       "<span style=\"color: #800000; text-decoration-color: #800000\">╰──────────────────────────────────────────────────────────────────────────────────────────────────╯</span>\n",
       "<span style=\"color: #ff0000; text-decoration-color: #ff0000; font-weight: bold\">ModuleNotFoundError: </span>No module named <span style=\"color: #008000; text-decoration-color: #008000\">'keplergl'</span>\n",
       "</pre>\n"
      ],
      "text/plain": [
       "\u001b[31m╭─\u001b[0m\u001b[31m──────────────────────────────\u001b[0m\u001b[31m \u001b[0m\u001b[1;31mTraceback \u001b[0m\u001b[1;2;31m(most recent call last)\u001b[0m\u001b[31m \u001b[0m\u001b[31m───────────────────────────────\u001b[0m\u001b[31m─╮\u001b[0m\n",
       "\u001b[31m│\u001b[0m in \u001b[92m<module>\u001b[0m:\u001b[94m1\u001b[0m                                                                                    \u001b[31m│\u001b[0m\n",
       "\u001b[31m│\u001b[0m                                                                                                  \u001b[31m│\u001b[0m\n",
       "\u001b[31m│\u001b[0m \u001b[31m❱ \u001b[0m1 \u001b[94mfrom\u001b[0m \u001b[4;96mkeplergl\u001b[0m \u001b[94mimport\u001b[0m KeplerGl                                                                \u001b[31m│\u001b[0m\n",
       "\u001b[31m│\u001b[0m   \u001b[2m2 \u001b[0mmap_1 = KeplerGl(height=\u001b[94m1000\u001b[0m, data={\u001b[33m\"\u001b[0m\u001b[33mpop\u001b[0m\u001b[33m\"\u001b[0m: syn_pop})                                         \u001b[31m│\u001b[0m\n",
       "\u001b[31m│\u001b[0m   \u001b[2m3 \u001b[0m                                                                                             \u001b[31m│\u001b[0m\n",
       "\u001b[31m╰──────────────────────────────────────────────────────────────────────────────────────────────────╯\u001b[0m\n",
       "\u001b[1;91mModuleNotFoundError: \u001b[0mNo module named \u001b[32m'keplergl'\u001b[0m\n"
      ]
     },
     "metadata": {},
     "output_type": "display_data"
    }
   ],
   "source": [
    "from keplergl import KeplerGl\n",
    "map_1 = KeplerGl(height=1000, data={\"pop\": syn_pop})"
   ]
  },
  {
   "cell_type": "code",
   "execution_count": null,
   "metadata": {},
   "outputs": [],
   "source": []
  }
 ],
 "metadata": {
  "kernelspec": {
   "display_name": ".venv",
   "language": "python",
   "name": "python3"
  },
  "language_info": {
   "codemirror_mode": {
    "name": "ipython",
    "version": 3
   },
   "file_extension": ".py",
   "mimetype": "text/x-python",
   "name": "python",
   "nbconvert_exporter": "python",
   "pygments_lexer": "ipython3",
   "version": "3.10.8"
  },
  "orig_nbformat": 4,
  "vscode": {
   "interpreter": {
    "hash": "b938c656de6c4149e2e63e33d1587874e12d31e52641befcd0b304427d93160a"
   }
  }
 },
 "nbformat": 4,
 "nbformat_minor": 2
}
